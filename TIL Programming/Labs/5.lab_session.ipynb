{
 "cells": [
  {
   "cell_type": "markdown",
   "id": "95068381",
   "metadata": {},
   "source": [
    "<h1>1. String methods</h1>"
   ]
  },
  {
   "cell_type": "markdown",
   "id": "83e64de9",
   "metadata": {},
   "source": [
    "Like any programming language, Python allows many operations on strings. Finding sub-strings, splitting, joining, etc. You can find a list of the available methods [here](https://docs.python.org/3/library/stdtypes.html#string-methods).<br>\n",
    "<br>\n",
    "<b>Exercise</b><br>\n",
    "Use the appropriate methods to make the following lines of code work."
   ]
  },
  {
   "cell_type": "code",
   "execution_count": 206,
   "id": "75872b15",
   "metadata": {},
   "outputs": [
    {
     "name": "stdout",
     "output_type": "stream",
     "text": [
      "3\n",
      "72\n",
      "78\n",
      "True\n",
      "in computer programming,  a string is traditionally  a sequence of characters.  \n",
      "['In computer programming', '  a string is traditionally  a sequence of characters.  ']\n",
      "In computer programming, a string is traditionally a sequence of characters. \n",
      "In computer programming,  a string is a sequence of characters.  \n"
     ]
    }
   ],
   "source": [
    "string = \"In computer programming,  a string is traditionally  a sequence of characters.  \"\n",
    "\n",
    "print(string.find('c'))                     # index of the first 'c'\n",
    "print(len(string)-1 - int(string[::-1].find('c'))) # index of the last 'c' (see r{name} methods for right-hand functions)\n",
    "print(len(string.removesuffix('  ')))       # length of the string without trailing whitespaces\n",
    "print(string.startswith('In'))              # whether the string starts with \"In\"\n",
    "print(string.lower())                       # string as all lower-case\n",
    "print(string.split(','))                    # list of parts of the sentence, split by \",\"\n",
    "print(string.replace('  ', ' '))            # all double whitespaces replaced by a single whitespace\n",
    "print(string.replace(' traditionally ', ''))  # without the word \"traditionally\" (beware of whitespaces)"
   ]
  },
  {
   "cell_type": "markdown",
   "id": "c2de91b7",
   "metadata": {},
   "source": [
    "<h1>2. String formatting</h2>"
   ]
  },
  {
   "cell_type": "markdown",
   "id": "1f8c61a0",
   "metadata": {},
   "source": [
    "Formatting a string allows you to export or print data. For example, printing the string `Client name: %s` where `%s` is formatted to be the name of a client given as a string. Besides substituting strings at `%s`, other data types can also be formatted in to the string. See [here](https://docs.python.org/3/library/stdtypes.html#printf-style-string-formatting) for a list of all formatting conversions. This includes formatting/rounding numbers.<br>\n",
    "<br>\n",
    "A general way to format a string is given below. Note the `%d` for an integer. In case of a single argument, the `( )` are not nessecary."
   ]
  },
  {
   "cell_type": "code",
   "execution_count": 207,
   "id": "25c5a8f5",
   "metadata": {},
   "outputs": [
    {
     "name": "stdout",
     "output_type": "stream",
     "text": [
      "Client Obelix is 32 years old.\n"
     ]
    }
   ],
   "source": [
    "client_name = \"Obelix\"\n",
    "client_age = 32                                                   # [years]\n",
    "string = \"Client %s is %d years old.\" % (client_name, client_age) # the format is: string % (arguments)\n",
    "print(string)"
   ]
  },
  {
   "cell_type": "markdown",
   "id": "34099dbf",
   "metadata": {},
   "source": [
    "<b>Exercise</b><br>\n",
    "Use the appropriate format to make the following lines of code work."
   ]
  },
  {
   "cell_type": "code",
   "execution_count": 208,
   "id": "4568c7da",
   "metadata": {},
   "outputs": [
    {
     "name": "stdout",
     "output_type": "stream",
     "text": [
      "1     \n",
      "1.7 \n",
      "1.73   \n",
      "1.730000    \n",
      "0001.73     \n",
      "+1.73    \n",
      "+001.73     \n",
      "1.73e+00    \n"
     ]
    }
   ],
   "source": [
    "value = 1.73456\n",
    "print(\"%d     \" % value)   # 2        (see \"5. Precision\", why can't you use %d?)\n",
    "print(\"%.1f \" % round(value, 1))    # 1.7      \n",
    "print(\"%.2f   \" % round(value, 2))    # 1.73\n",
    "print(\"%f    \" % round(value, 2))   #    1.73  (with a total length of 7, see \"4. Minimum field width\")\n",
    "print(\"000%.2f     \" % value)  # 0001.73  (see Flag '0')\n",
    "print(\"+%.2f    \" % value)   # +1.73    (see Flag '+')\n",
    "print(\"+00%.2f     \" % value) # +001.73\n",
    "print(\"%.2e    \" % value)   # 1.73e+00 (exponential format)"
   ]
  },
  {
   "cell_type": "markdown",
   "id": "1d968f6c",
   "metadata": {},
   "source": [
    "<h1>3. Regular expressions</h1>"
   ]
  },
  {
   "cell_type": "markdown",
   "id": "cfcfc7b4",
   "metadata": {},
   "source": [
    "Regular expressions are used to find patterns in text, without exactly specifying each character. For example to find words, to find numbers that were formatted in a particular way, etc.<br>\n",
    "A single digit can for example be matched with `\\d`. That would match at 4 locations in the string `The width of the car is 2m, and the height is 1.65m.`.<br>\n",
    "Another example is that we can match a set of characters. This can be matched using `[xyz]`. That would match at 4 locations in the string `If x = 2y, than y = 6z.`.<br>\n",
    "At [Python Regular Expressions](https://docs.python.org/3/library/re.html) more information can be found on matching string patterns in Python. Using this information, make the following assignment.<br>\n",
    "<br>\n",
    "<b>Exercise</b><br>\n",
    "Consider the 12 lines in the code box below. You will have to find a pattern that:\n",
    "<ul>\n",
    "    <li>Matches the first 10 lines with a decimal number.</li>\n",
    "    <li>Does not match the integer in the 11th line.</li>\n",
    "    <li>Does not match the text in the 12th line.</li>\n",
    "</ul>\n",
    "<br>\n",
    "1. Before you read the documentation, write the pattern down in words under 'pattern in words:'<br>\n",
    "<br>\n",
    "<i>Tip: The lines to match have a general pattern of 3 elements (first this, than that, and finally that).</i><br>\n",
    "<br>\n",
    "\n",
    "Open [regex101.com](https://regex101.com/).<br>\n",
    "On the left-hand side, select the \"Python\" flavor.<br>\n",
    "Copy the 12 lines from the code box below in the \"TEST STRING\" box.<br>\n",
    "In the \"REGULAR EXPRESSION\" text box, test and write your pattern.<br>\n",
    "<br>\n",
    "2. Write the pattern down in code, regexp = ...<br>\n",
    "<br>\n",
    "<i>Tip: Some elements may be \"zero or more of X\", where X is some type.</i><br>\n",
    "<i>Tip: Some elements may be \"any of Y\", where Y is a set of cases it can be.</i>"
   ]
  },
  {
   "cell_type": "markdown",
   "id": "ceeb7d8b",
   "metadata": {},
   "source": [
    "    0001,2345\n",
    "    1,2345\n",
    "    1,23\n",
    "    ,2345\n",
    "    1,\n",
    "    001.2345\n",
    "    1.2345\n",
    "    1.23\n",
    "    .2345\n",
    "    1.\n",
    "    1\n",
    "    thisisnotanumber"
   ]
  },
  {
   "cell_type": "markdown",
   "id": "455be794",
   "metadata": {},
   "source": [
    "<b>pattern in words:</b><br>\n",
    "first ... than ... finally"
   ]
  },
  {
   "cell_type": "code",
   "execution_count": 209,
   "id": "1119587c",
   "metadata": {},
   "outputs": [],
   "source": [
    "import re\n",
    "regexp = \"\\d*[,\\.]\\d*\"\n",
    "\n"
   ]
  },
  {
   "cell_type": "markdown",
   "id": "05a02c1f",
   "metadata": {},
   "source": [
    "<h1>4. Counting characters</h1>"
   ]
  },
  {
   "cell_type": "markdown",
   "id": "66cb588f",
   "metadata": {},
   "source": [
    "<b>Exercise</b><br>\n",
    "Print all non-zero frequencies of each character from the alphabet in the text given in the code box.\n",
    "<ul>\n",
    "<li>Treat accented characters as normal characters.</li>\n",
    "<li>Combine uppercase and lowercase characters in a single count.</li>\n",
    "<li>Print in alphabetical order.</li>\n",
    "</ul>\n",
    "<i>Hint: Have one step where you prepare and filter some data, and a second step with a loop.<i><br>\n",
    "<i>Hint: sets have unique values, and lists are indexed and can thus be sorted (sort()).<i>"
   ]
  },
  {
   "cell_type": "code",
   "execution_count": 210,
   "id": "f40cc95e",
   "metadata": {},
   "outputs": [
    {
     "name": "stdout",
     "output_type": "stream",
     "text": [
      "{'a': 3, 'b': 0, 'c': 1, 'd': 2, 'e': 12, 'f': 3, 'g': 2, 'h': 8, 'i': 3, 'j': 2, 'k': 0, 'l': 1, 'm': 3, 'n': 8, 'o': 12, 'p': 1, 'q': 0, 'r': 4, 's': 5, 't': 6, 'u': 1, 'v': 3, 'w': 0, 'x': 0, 'y': 2, 'z': 0}\n"
     ]
    }
   ],
   "source": [
    "import string\n",
    "from unidecode import unidecode\n",
    "\n",
    "text = \"For the movie The Theory of Everything (2014), Jóhann Jóhannsson composed the song A Model of the Universe\"\n",
    "\n",
    "alphabet = dict.fromkeys(string.ascii_lowercase , 0)\n",
    "text_decoded = unidecode(text).lower()\n",
    "\n",
    "#print(text_decoded)\n",
    "\n",
    "for letter in text_decoded:\n",
    "    for key, value in alphabet.items():\n",
    "        if letter == key:\n",
    "            alphabet[letter] = alphabet[letter] + 1\n",
    "        else:\n",
    "            continue\n",
    "\n",
    "\n",
    "print(alphabet)"
   ]
  },
  {
   "cell_type": "markdown",
   "id": "f412c5d7",
   "metadata": {},
   "source": [
    "<h1>5. Good... afternoon?</h1>"
   ]
  },
  {
   "cell_type": "markdown",
   "id": "a7c49199",
   "metadata": {},
   "source": [
    "The code below generates a random time in the day. Suppose we want to present a user a welcoming message when the user opens a program at that time.<br>\n",
    "<br>\n",
    "<b>Exercise</b><br>\n",
    "<ul>\n",
    "    <li>Print a message with the (pseudo) format: Good {part of day}, the time is hh:mm</li>\n",
    "    <li>Parts of the day are night [0-5], morning [6-11], afternoon [12-17] or evening [18-23].</li>\n",
    "    <li>Hour or minute values below 10 should have a leading 0.</li>\n",
    "</ul>\n",
    "<i>Hint: you can use if-elif-else for the part of the day, but you can also have a fixed list of parts of the day and use clever indexing from the hour value.</i>"
   ]
  },
  {
   "cell_type": "code",
   "execution_count": 211,
   "id": "71646eb0",
   "metadata": {},
   "outputs": [
    {
     "name": "stdout",
     "output_type": "stream",
     "text": [
      " Good morning, the time is 09:36\n"
     ]
    }
   ],
   "source": [
    "import random\n",
    "\n",
    "h = random.randint(0, 23) # hour of the day\n",
    "m = random.randint(0, 59) # minute in the hour\n",
    "day_part = ''\n",
    "\n",
    "if h in [i for i in range(6, 11 + 1)]:\n",
    "     day_part = 'morning'\n",
    "            \n",
    "if h in [i for i in range (12, 17 + 1)]:\n",
    "     day_part = 'afternoon'\n",
    "\n",
    "if h in [i for i in range (18, 23 + 1)]:\n",
    "     day_part = 'evening'\n",
    "\n",
    "if h in [i for i in range(0, 5 + 1)]:\n",
    "    day_part = 'night'\n",
    "\n",
    "if h < 10:\n",
    "    h = '0' + str(h)\n",
    "else:\n",
    "    h=h\n",
    "\n",
    "if m < 10:\n",
    "    m = '0' + str(m)\n",
    "else:\n",
    "    m=m\n",
    "\n",
    "#print(day_part)\n",
    "#print(h)\n",
    "\n",
    "\n",
    "print(\" Good {day_part}, the time is {h}:{m}\".format(day_part=day_part, h=h, m=m))"
   ]
  }
 ],
 "metadata": {
  "kernelspec": {
   "display_name": "Python 3 (ipykernel)",
   "language": "python",
   "name": "python3"
  },
  "language_info": {
   "codemirror_mode": {
    "name": "ipython",
    "version": 3
   },
   "file_extension": ".py",
   "mimetype": "text/x-python",
   "name": "python",
   "nbconvert_exporter": "python",
   "pygments_lexer": "ipython3",
   "version": "3.11.4"
  }
 },
 "nbformat": 4,
 "nbformat_minor": 5
}
