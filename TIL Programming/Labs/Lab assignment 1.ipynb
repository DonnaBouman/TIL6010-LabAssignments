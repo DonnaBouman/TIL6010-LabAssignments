{
 "cells": [
  {
   "cell_type": "markdown",
   "metadata": {},
   "source": [
    "\n",
    "[<img src=\"https://raw.githubusercontent.com/mbakker7/exploratory_computing_with_python/master/tudelft_logo.png\" width=\"200\" align='right'>](https://www.tudelft.nl/citg/over-faculteit/afdelingen/geoscience-remote-sensing/staff/scientific-staff/dr-stef-lhermitte)\n",
    "\n",
    "\n",
    "# Python Environment Assignment \n",
    "*Created by Panchamy Krishnakumari (p.k.krishnakumari at tudelft.nl)*\n",
    "\n",
    "In this course you will use several libraries that you need to install and are listed below. The setup for installing these packages in your local computer conda distribution is included in brightspace as well as below. \n",
    "\n",
    "*In case of technical installation problems, the cloud-based Google Colab online jupyter notebooks is an alternative. But, we highly recommend setting up your own local environment and working with visual studio code as this makes collaboration easier.*"
   ]
  },
  {
   "cell_type": "markdown",
   "metadata": {},
   "source": [
    "# Introduction"
   ]
  },
  {
   "cell_type": "markdown",
   "metadata": {},
   "source": [
    "## Required packages for the courses"
   ]
  },
  {
   "cell_type": "markdown",
   "metadata": {},
   "source": [
    "The packages used in this course are:\n",
    "\n",
    "- [copy](https://docs.python.org/3/library/copy.html): a Python package to make shallow and deep copy of Python objects.\n",
    "- [random](https://docs.python.org/3/library/random.html): a Python package for random number generation\n",
    "- [datetime](https://docs.python.org/3/library/datetime.html): a Python package to manipulate dates and times\n",
    "- [math](https://docs.python.org/3/library/math.html): a Python package for mathematical functions\n",
    "\n",
    "- [numpy](https://numpy.org): a Python package for scientific computing\n",
    "- [json](https://docs.python.org/3/library/json.html): a Python package to encode and decode JSON format\n",
    "- [pandas](https://pandas.pydata.org): a Python package for data analysis and manipulation\n",
    "- [geopandas](https://geopandas.org/en/stable/): a Python package to make working with geospatial data in python easier. GeoPandas extends the datatypes used by pandas to allow spatial operations on geometric types.\n",
    "\n",
    "- [matplotlib](https://matplotlib.org): a Python package for creating static, animated and interactive visualisations\n",
    "- [seaborn](https://seaborn.pydata.org): a Python package for statistical data visualisation\n",
    "- [plotly.express](https://plotly.com/python/plotly-express/): a Python package for interactive charts and maps. Plotly Express is a built-in part of the plotly library.\n",
    "- [folium](http://python-visualization.github.io/folium/): a Python package for visualising and maniplating geospatial data.\n",
    "\n",
    "- [scipy](https://scipy.org): a Python package for fundamental algorithms for scientific computing\n",
    "- [scikit-learn](https://scikit-learn.org/stable/): a Python package for general machine learning algorithms and predictive data analysis"
   ]
  },
  {
   "cell_type": "markdown",
   "metadata": {},
   "source": [
    "## Setting up your own python environment"
   ]
  },
  {
   "cell_type": "markdown",
   "metadata": {},
   "source": [
    "To install the packages on your local computer, follow the instructions below:\n",
    "\n",
    "- For windows, first launch your conda prompt. If you don't know how to launch the conda prompt in Windows check [here](https://docs.anaconda.com/anaconda/install/verify-install/#conda). Once the conda prompt is launched, you should run the following commands in this prompt:\n",
    "\n",
    "- For Mac/Linux you should open your terminal and the you can directly run the following commands in the terminal:\n",
    "\n",
    "`conda config --show channels` - List channels to your base conda environment.\n",
    "\n",
    "`conda config --append channels conda-forge` - If *conda-forge* channel is not listed, add it.\n",
    "\n",
    "`conda info --envs` - List all existing conda environments.\n",
    "\n",
    "`conda env remove -n TIL6022`  - Remove exisitng duplicated environment of the same name if necessary.\n",
    "\n",
    "`conda create --name TIL6022` - This line is to create a new conda environment with name TIL6022. \n",
    "\n",
    "`conda create -name TIL6022 python=3.7` - Create new conda environment with name TIL6022 with Python 3.7 version\n",
    "\n",
    "`conda activate TIL6022` - You need to activate that newly created environment. If successful, it should switch from (base) to (TIL6022)\n",
    "\n",
    "`conda install --file requirements.txt` - Within this newly created environment, you can first install necessary libraries from requirements.txt. This take some time.\n",
    "\n",
    "`conda install ipykernel` - You can install individual package for eg. ipykernel. Install each library in the requirements.txt like this.\n",
    "\n",
    "`conda list` - Show all the libraries installed in an environment.\n",
    "\n",
    "Once you succeeded in installing these packages, you can run the notebook in TIL6022 environment. In VS code, the environment will appear automatically and you can switch your workarea to that specific environment.\n",
    "\n",
    "Once this is done, these packages can be imported as normal packages and you should be able to run the code in the rest of this notebook without major errors. If this is the case you are fine to start the course.\n"
   ]
  },
  {
   "cell_type": "markdown",
   "metadata": {},
   "source": [
    "## Environment setup using 'requirements.txt' or 'environment.yml'"
   ]
  },
  {
   "cell_type": "markdown",
   "metadata": {},
   "source": [
    "`conda create -n TIL6022 --file requirement.txt` - create an enviroment from .txt file\n",
    "\n",
    "`conda env create -n TIL6022 --file environment.yml` - create an enviroment from .yml file"
   ]
  },
  {
   "cell_type": "markdown",
   "metadata": {},
   "source": [
    "## Conversion of notebook to pdf and HTML"
   ]
  },
  {
   "cell_type": "markdown",
   "metadata": {},
   "source": [
    "- These libraries has been added in requirements.txt to aid in converting to pdf and html - *pyppeteer, jupyter_contrib_nbextensions, pandoc*\n",
    "- Type `pyppeteer-install` in the terminal to download chromium needed for converting notebook to HTML\n",
    "- Download a complete version of xelatex environment using instructions [here](https://nbconvert.readthedocs.io/en/latest/install.html#installing-tex). To avoid installing xelatex, you can try to export to HTML and use your browsers \"Print to PDF\" feature or use 'Print preview' and save as pdf\n",
    "- Open jupyter notebook from terminal - `jupyter notebook` or from anaconda navigator\n",
    "- Deactivate the environment and go back to the *base* environment - `conda deactivate`"
   ]
  },
  {
   "cell_type": "markdown",
   "metadata": {},
   "source": [
    "## The Zen of Python"
   ]
  },
  {
   "cell_type": "code",
   "execution_count": null,
   "metadata": {},
   "outputs": [],
   "source": [
    "import this"
   ]
  },
  {
   "cell_type": "markdown",
   "metadata": {},
   "source": [
    "# Part I - Verifying the installation"
   ]
  },
  {
   "cell_type": "code",
   "execution_count": null,
   "metadata": {},
   "outputs": [],
   "source": [
    "import copy #should be inbuilt\n",
    "import random #should be inbuilt\n",
    "import datetime #should be inbuilt\n",
    "import math #should be inbuilt\n",
    "import numpy #should be installed with another package\n",
    "import json #should be inbuilt\n",
    "import pandas\n",
    "import geopandas\n",
    "import matplotlib.pyplot as plt\n",
    "import seaborn\n",
    "import plotly.express\n",
    "import folium #folium needs conda-forge\n",
    "import scipy #should be installed with another package\n",
    "import sklearn\n",
    "\n",
    "print('All libraries are downloaded and imported correctly!')"
   ]
  },
  {
   "cell_type": "markdown",
   "metadata": {},
   "source": [
    "# Part II - Markdown Assignments\n",
    "\n",
    "Look at *Expected output.pdf* to see what needs to be created. You can find helpers for markdown [here](https://docs.github.com/en/get-started/writing-on-github/getting-started-with-writing-and-formatting-on-github/basic-writing-and-formatting-syntax)"
   ]
  },
  {
   "cell_type": "markdown",
   "metadata": {},
   "source": [
    "## Q1: Create a nested list"
   ]
  },
  {
   "cell_type": "markdown",
   "metadata": {},
   "source": [
    "\n",
    "### Answer 1 line.<br>\n",
    "\n",
    "<ul> \n",
    "Part 2 - Markdown Assignments\n",
    "    <ul>\n",
    "        <li> Q1: Create a nested list</li>\n",
    "        <li> Answer 1 </li>\n",
    "        <li> Q2: Quoting Code</li>\n",
    "        <li> Answer 2 </li>\n",
    "        <li> Q3: Add the sample figure </li>\n",
    "        <li> Answer 3 </ul>\n",
    "        </ul>\n",
    "</ul>\n"
   ]
  },
  {
   "cell_type": "markdown",
   "metadata": {},
   "source": [
    "## Q2: Quoting code\n",
    "\n",
    "### The following is a piece of code in python:\n",
    " ad>\n",
    "     <ea\n",
    "iim\n",
    "    import math\n",
    "    print(math.sqrt(100))port th\n",
    "pd>rmath.sqrt(100))"
   ]
  },
  {
   "cell_type": "markdown",
   "metadata": {},
   "source": [
    "### Answer 2\n"
   ]
  },
  {
   "cell_type": "markdown",
   "metadata": {},
   "source": [
    "## Q3: Add the sample picture"
   ]
  },
  {
   "cell_type": "markdown",
   "metadata": {},
   "source": [
    "### Answer 3\n",
    "\n",
    "\n"
   ]
  },
  {
   "cell_type": "markdown",
   "metadata": {},
   "source": [
    "## BONUS: Add a task list\n",
    "\n",
    "If you are using Visual Studio Code, you need [markdown checkbox extension](https://marketplace.visualstudio.com/items?itemName=bierner.markdown-checkbox). "
   ]
  },
  {
   "cell_type": "markdown",
   "metadata": {},
   "source": [
    "# Submission\n",
    "If all cells work without problems, you are ready to start the notebook sessions in the quarter. \n",
    "\n",
    "Run all the cells and download the notebook as a pdf and submit this pdf in the assignment "
   ]
  }
 ],
 "metadata": {
  "kernelspec": {
   "display_name": "Python 3 (ipykernel)",
   "language": "python",
   "name": "python3"
  },
  "language_info": {
   "codemirror_mode": {
    "name": "ipython",
    "version": 3
   },
   "file_extension": ".py",
   "mimetype": "text/x-python",
   "name": "python",
   "nbconvert_exporter": "python",
   "pygments_lexer": "ipython3",
   "version": "3.11.4"
  },
  "vscode": {
   "interpreter": {
    "hash": "31f2aee4e71d21fbe5cf8b01ff0e069b9275f58929596ceb00d14d90e3e16cd6"
   }
  }
 },
 "nbformat": 4,
 "nbformat_minor": 4
}
