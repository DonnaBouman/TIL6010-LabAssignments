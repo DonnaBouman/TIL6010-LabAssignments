{
 "cells": [
  {
   "cell_type": "markdown",
   "metadata": {},
   "source": [
    "# Sum of possitive numbers"
   ]
  },
  {
   "cell_type": "markdown",
   "metadata": {},
   "source": [
    "Calculate the sum of all possitive numbers in a list.  \n",
    "Example: for the list [2, -1, 3], the expected sum is 2 + 3 = 5"
   ]
  },
  {
   "cell_type": "code",
   "execution_count": 1,
   "metadata": {},
   "outputs": [
    {
     "name": "stdout",
     "output_type": "stream",
     "text": [
      "2\n"
     ]
    }
   ],
   "source": [
    "a = [2, -1, 3]\n",
    "# YOUR CODE HERE\n",
    "# Hint:\n",
    "# - Loop through elements of the list\n",
    "# - Use conditional statement to check if an element is possitive\n",
    "# - If yes, add to the final sum\n",
    "\n",
    "counting_list = [number for number in a if number % 2 == 0]\n",
    "print(sum(counting_list))"
   ]
  },
  {
   "cell_type": "markdown",
   "metadata": {},
   "source": [
    "Now, use the code that you've developed to create a function that takes in a list and returns the sum of positive numbers."
   ]
  },
  {
   "cell_type": "code",
   "execution_count": 12,
   "metadata": {},
   "outputs": [
    {
     "name": "stdout",
     "output_type": "stream",
     "text": [
      "2\n"
     ]
    }
   ],
   "source": [
    "def sum_positives(a_list):\n",
    "    counting_list = [number for number in a_list if number % 2 == 0]\n",
    "    return(sum(counting_list))\n",
    "\n",
    "print(sum_positives(a))"
   ]
  },
  {
   "cell_type": "markdown",
   "metadata": {},
   "source": [
    "Call the function with the list `a` above."
   ]
  },
  {
   "cell_type": "markdown",
   "metadata": {},
   "source": [
    "# Body Mass Index\n",
    "\n",
    "Let's evaluate the Body Mass Index (BMI) of a user based on a given weight and height\n",
    "\n",
    "Body Mass Index is a simple calculation using a person’s height and weight. The formula is BMI = kg/m2 where kg is a person’s weight in kilograms and m2 is their height in metres squared.\n",
    "\n",
    "A BMI of 25.0 or more is overweight, while the healthy range is 18.5 to 24.9. BMI applies to most adults 18-65 years.\n",
    "\n",
    "instruction: \n",
    "- write  this program in a .py file. \n",
    "- open the file BMI.py\n",
    "- ask users to input their height, weight, and age \n",
    "- make sure that they input their height in meter and if they entered in cm, then convert it to meter. \n",
    "- check if the user is eligible for this index based on their age. \n",
    "- calculate the BMI ( only if eligible)\n",
    "- based on BMI send approaprate message to users whether they are over-weighted, under-weighted or normal. \n",
    "- ask the users if they want to exit (Y|N)? \n",
    "- countinue asking for height, weight and age if the answer is No (N). "
   ]
  },
  {
   "cell_type": "code",
   "execution_count": 84,
   "metadata": {},
   "outputs": [
    {
     "name": "stdout",
     "output_type": "stream",
     "text": [
      "Your height was not filled in correctly\n"
     ]
    }
   ],
   "source": [
    "# YOUR CODE\n",
    "# This program calculates body mass index of users using their weight and height. \n",
    "\n",
    "import os    \n",
    "\n",
    "os.system(\"clear\")\n",
    "\n",
    "# YOUR CODE HERE! \n",
    "\n",
    "def ask_height():\n",
    "    height = input('What is your height? ')\n",
    "\n",
    "    try:\n",
    "        height = float(height)\n",
    "    except:\n",
    "        return False\n",
    "    else:\n",
    "        if height > 3:\n",
    "            height = height / 100\n",
    "    \n",
    "    return height\n",
    "    \n",
    "def ask_weight():\n",
    "    weight = input('What is your weight? ')\n",
    "\n",
    "    try:\n",
    "        weight = float(weight)\n",
    "    except:\n",
    "        return False\n",
    "    else:\n",
    "        return weight\n",
    "    \n",
    "\n",
    "def ask_age():\n",
    "    age = input('What is your age? ')\n",
    "\n",
    "    try:\n",
    "        age = int(age)\n",
    "    except:\n",
    "        return False\n",
    "    else:\n",
    "        if 18 <= age <= 65:\n",
    "            return age\n",
    "\n",
    "def prompting():\n",
    "    height = ask_height()\n",
    "    weight = ask_weight()\n",
    "    age = ask_age()\n",
    "\n",
    "    if isinstance(age, int) == False:\n",
    "        print('Your age was not filled in correctly')\n",
    "        return None\n",
    "    if isinstance(height, float) == False:\n",
    "        print('Your height was not filled in correctly')\n",
    "        return None\n",
    "    if isinstance(weight, float) == False:\n",
    "        print('Your weight was not filled in correctly')\n",
    "        return None\n",
    "\n",
    "    BMI = float(weight)/float(height)**2\n",
    "    print(\"{} / {}\".format(height, weight))\n",
    "    print(BMI)\n",
    "\n",
    "    if BMI < 18.5:\n",
    "         print('You are currently underweight')\n",
    "    elif 18.5 <= BMI <= 25:\n",
    "         print('You are currently healthy')\n",
    "    elif BMI > 25:\n",
    "         print('You are currently overweight')\n",
    "         \n",
    "    prompt = input('Do you want to continue? [Y/N]')\n",
    "\n",
    "    if prompt == 'Y':\n",
    "        prompting()\n",
    "    elif prompt == 'N':\n",
    "        pass\n",
    "\n",
    "\n",
    "    \n",
    "prompting()"
   ]
  },
  {
   "cell_type": "markdown",
   "metadata": {},
   "source": [
    "# Fibonacci\n",
    "\n",
    "The [Fibonacci](https://en.wikipedia.org/wiki/Fibonacci_number) series starts with 0 and 1. The next number is the sum of the last two numbers.  \n",
    "$ x_0 = 0, x_1 = 1, x_{n+1} = x_n + x_{n-1}$  \n",
    "\n",
    "- Write a function `get_Fibonacci_number` to compute $x_n$ of the Fibonacci series.\n",
    "E.g: \n",
    "    - `get_Fibonacci_number(0)` returns 0\n",
    "    - `get_Fibonacci_number(1)` returns 1\n",
    "    - `get_Fibonacci_number(3)` returns 2\n",
    "\n",
    "- Approximate the golden ratio: \n",
    "\n",
    "$\\lim_{x \\to \\infty}  \\frac{fib_x}{fib_(x-1)} $\n",
    "\n",
    "Hint: you can use loops, generators functions, or recursive functions. For the golden ratio, you can think of a big enouph number ( e.g. 1000) to represent infinity. \n",
    "\n",
    "- create a list 100 golden ratio for the first 100 fibonacci numbers and plot the result using the matplotlib library. \n",
    "\n"
   ]
  },
  {
   "cell_type": "code",
   "execution_count": 102,
   "metadata": {},
   "outputs": [
    {
     "name": "stdout",
     "output_type": "stream",
     "text": [
      "2\n"
     ]
    }
   ],
   "source": [
    "def get_Fibonacci_number(n):\n",
    "    # YOUR CODE HERE\n",
    "    if n <= 1:\n",
    "        return n\n",
    "    n = get_Fibonacci_number(n-1) + get_Fibonacci_number(n-2)\n",
    "    return n\n",
    "\n",
    "print(get_Fibonacci_number(3))"
   ]
  },
  {
   "cell_type": "markdown",
   "metadata": {},
   "source": [
    "Write a function to get the largest Fibonacci number that is equal or smaller than a given number.  \n",
    "For example:\n",
    "- Given 2, the functions should return 2\n",
    "- Given 10, the functions should return 8"
   ]
  },
  {
   "cell_type": "code",
   "execution_count": 103,
   "metadata": {},
   "outputs": [],
   "source": [
    "# YOUR CODE HERE\n"
   ]
  },
  {
   "cell_type": "markdown",
   "metadata": {},
   "source": [
    "# Dictionary"
   ]
  },
  {
   "cell_type": "markdown",
   "metadata": {},
   "source": [
    "A Python ditionary comprises of student numbers as keys and student names as values. Write a function to capitalize all the student names in the dictionary."
   ]
  },
  {
   "cell_type": "code",
   "execution_count": 104,
   "metadata": {},
   "outputs": [
    {
     "name": "stdout",
     "output_type": "stream",
     "text": [
      "{4868420: 'Jelmer van Gestel', 12345678: 'Willem Alexander van der 2ederlanden', 2222222: 'Derek Manlul'}\n"
     ]
    }
   ],
   "source": [
    "# YOUR CODE HERE\n",
    "\n",
    "def capitalize_students(student_dict):\n",
    "    for numbers, names in student_dict.items():\n",
    "        name_correction = []\n",
    "\n",
    "        name_split = names.split()\n",
    "        for name in name_split:\n",
    "            if 'van' == name or 'der' == name:\n",
    "                name_correction.append(name)\n",
    "            else:\n",
    "                name_correction.append(name.capitalize())\n",
    "\n",
    "        student_dict[numbers] = str(' '.join(name_correction))\n",
    "    return student_dict\n",
    "\n",
    "test = {4868420 : 'jelmer van gestel', 12345678 : 'willem Alexander van der 2ederlanden', 2222222 : 'derek manlul'}\n",
    "print(capitalize_students(test))"
   ]
  },
  {
   "cell_type": "markdown",
   "metadata": {},
   "source": [
    "# Character counts\n",
    "\n",
    "Write a function that count the frequencies of each alphabet character in a given string. The function should return a dictionary, in which each key is a character and each value is the corresponding frequency. All characters are treated as their lowercases, meaning 'E' is the same as 'e'.   \n",
    "For example: Calling the function for 'Hello' will return {'h': 1, 'e': 1, 'l': 2, 'o': 1}."
   ]
  },
  {
   "cell_type": "code",
   "execution_count": 105,
   "metadata": {},
   "outputs": [
    {
     "name": "stdout",
     "output_type": "stream",
     "text": [
      "{'a': 1, 'b': 1, 'c': 1, 'd': 1, 'e': 3, 'f': 1, 'g': 1}\n",
      "{'g': 2, 'i': 2, 's': 1, 't': 1, 'e': 4, 'r': 3, 'b': 1, 'n': 2, 'k': 1, 'j': 1, 'a': 2, 'o': 2, 'u': 1, 'd': 2, 'w': 1}\n"
     ]
    }
   ],
   "source": [
    "# YOUR CODE HERE\n",
    "def letter_counter(text):\n",
    "    alphabet_dict = {}\n",
    "    text = text.lower()\n",
    "\n",
    "    for letter in text:\n",
    "        if letter.isalpha():\n",
    "            if letter in alphabet_dict.keys():\n",
    "                alphabet_dict[letter] += 1\n",
    "            else:\n",
    "                alphabet_dict[letter] = 1\n",
    "    \n",
    "    return alphabet_dict\n",
    "\n",
    "print(letter_counter('abcdeeefg'))\n",
    "print(letter_counter('Gister ben ik 23 jaar oud geworden!'))"
   ]
  },
  {
   "cell_type": "markdown",
   "metadata": {},
   "source": [
    "# Extrema (Optional)\n",
    "\n",
    "Given a list of numbers representing a series, count how many time the values change their trends, i.e. from increasing to descreasing and vi versa.  \n",
    "Examples of these changes are:\n",
    "- [0, 2, 1]\n",
    "- [0, -2, -2, 3]"
   ]
  },
  {
   "cell_type": "code",
   "execution_count": 106,
   "metadata": {},
   "outputs": [],
   "source": [
    "# YOUR CODE HERE"
   ]
  },
  {
   "cell_type": "markdown",
   "metadata": {},
   "source": [
    "# Approximate $\\pi$ (Optional)"
   ]
  },
  {
   "cell_type": "code",
   "execution_count": 107,
   "metadata": {},
   "outputs": [],
   "source": [
    "from random import random"
   ]
  },
  {
   "cell_type": "markdown",
   "metadata": {},
   "source": [
    "One method to approximate the value of $\\pi$ is through simulation. Given the function `random` generates a number in the range $[0,1]$ randomly, write a function to approxmiate $\\pi$.  \n",
    "\n",
    "*Hints:*\n",
    "- $\\pi$ is the area of a cirle with radius of 1.\n",
    "- For any random point in the unit square (positions top-right of the origin), the change of this point belonging to the quarter unit circle is $\\pi/4$"
   ]
  },
  {
   "cell_type": "code",
   "execution_count": 108,
   "metadata": {},
   "outputs": [],
   "source": [
    "# YOUR CODE HERE\n"
   ]
  },
  {
   "cell_type": "markdown",
   "metadata": {},
   "source": [
    "# Prime Number (Optional)\n",
    "\n",
    "Recieve a number N from users and return if the number is a Prime number. A prime number is a natural number greater than 1 that is not a product of two smaller natural numbers. In other words, they have only 2 factors: 1 and themselves. \n",
    "Display relavent message if the user entered anything except integer.  \n",
    "\n",
    "Hint: \n",
    "If the number N is devisible by any natural numbers between 2 and the first natural number bigger than $\\sqrt{N}$, the the number is __NOT__ a Prime number. "
   ]
  },
  {
   "cell_type": "code",
   "execution_count": 109,
   "metadata": {},
   "outputs": [],
   "source": [
    "# Your code here \n"
   ]
  },
  {
   "cell_type": "markdown",
   "metadata": {},
   "source": []
  }
 ],
 "metadata": {
  "kernelspec": {
   "display_name": "Python 3 (ipykernel)",
   "language": "python",
   "name": "python3"
  },
  "language_info": {
   "codemirror_mode": {
    "name": "ipython",
    "version": 3
   },
   "file_extension": ".py",
   "mimetype": "text/x-python",
   "name": "python",
   "nbconvert_exporter": "python",
   "pygments_lexer": "ipython3",
   "version": "3.11.4"
  },
  "vscode": {
   "interpreter": {
    "hash": "8a2fe6d3f24c831e4ac25973d4dc1bc7deb0e2b006a19b6d82b81e5c2cb0359b"
   }
  }
 },
 "nbformat": 4,
 "nbformat_minor": 2
}
