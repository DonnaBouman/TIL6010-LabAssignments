{
 "cells": [
  {
   "cell_type": "markdown",
   "metadata": {},
   "source": [
    "# Test Document"
   ]
  },
  {
   "cell_type": "markdown",
   "metadata": {},
   "source": [
    "Use this document for testing python codes"
   ]
  },
  {
   "cell_type": "code",
   "execution_count": 94,
   "metadata": {},
   "outputs": [],
   "source": [
    "import math"
   ]
  },
  {
   "cell_type": "code",
   "execution_count": 95,
   "metadata": {},
   "outputs": [
    {
     "name": "stdout",
     "output_type": "stream",
     "text": [
      "ja\n",
      "nee\n"
     ]
    }
   ],
   "source": [
    "print('ja') ; print('nee')"
   ]
  },
  {
   "cell_type": "code",
   "execution_count": 113,
   "metadata": {},
   "outputs": [
    {
     "name": "stdout",
     "output_type": "stream",
     "text": [
      "2\n",
      "2\n",
      "2.8\n"
     ]
    }
   ],
   "source": [
    "print(math.floor(14/5))\n",
    "print(14//5)\n",
    "print(14/5)"
   ]
  },
  {
   "cell_type": "code",
   "execution_count": 114,
   "metadata": {},
   "outputs": [
    {
     "data": {
      "text/plain": [
       "True"
      ]
     },
     "execution_count": 114,
     "metadata": {},
     "output_type": "execute_result"
    }
   ],
   "source": [
    "test_node1 = [\n",
    "  [ 0, 1, 0, 0 ],\n",
    "  [ 1, 0, 1, 1 ],\n",
    "  [ 0, 1, 0, 1 ],\n",
    "  [ 0, 1, 1, 0 ]\n",
    "]\n",
    "test_node2 = [\n",
    "  [ 0, 1, 0, 1, 1 ],\n",
    "  [ 1, 0, 1, 0, 0 ],\n",
    "  [ 0, 1, 0, 1, 0 ],\n",
    "  [ 1, 0, 1, 0, 1 ],\n",
    "  [ 1, 0, 0, 1, 0 ]\n",
    "]\n",
    "\n",
    "test_coordinates1_1 = (0, 1) #return True\n",
    "test_coordinates1_2 = (0, 2) #return False\n",
    "test_coordinates2_1 = (0, 3) #return True\n",
    "test_coordinates2_2 = (1, 4) #return False\n",
    "\n",
    "def adjacent_nodes(adjacency_matrix, coordinates):\n",
    "    if adjacency_matrix[coordinates[0]][coordinates[1]] == 1:\n",
    "        return True\n",
    "    else:\n",
    "        return False\n",
    "\n",
    "adjacent_nodes(test_node2, test_coordinates2_1)"
   ]
  },
  {
   "cell_type": "code",
   "execution_count": 115,
   "metadata": {},
   "outputs": [
    {
     "data": {
      "text/plain": [
       "'100,000,000'"
      ]
     },
     "execution_count": 115,
     "metadata": {},
     "output_type": "execute_result"
    }
   ],
   "source": [
    "def format_number(value):\n",
    "    value_list = []\n",
    "    counter = 0\n",
    "\n",
    "    if value >= 0:\n",
    "        for number in str(value)[::-1]:\n",
    "            counter += 1\n",
    "            value_list.append(number)\n",
    "            if counter % 3 == 0:\n",
    "                value_list.append(',')\n",
    "    \n",
    "    if value_list[-1] == ',':\n",
    "        del value_list[-1]\n",
    "            \n",
    "    \n",
    "    value_list = value_list[::-1]\n",
    "    return ''.join(value_list)\n",
    "\n",
    "format_number(100000000)"
   ]
  },
  {
   "cell_type": "code",
   "execution_count": 116,
   "metadata": {},
   "outputs": [
    {
     "data": {
      "text/plain": [
       "30.0"
      ]
     },
     "execution_count": 116,
     "metadata": {},
     "output_type": "execute_result"
    }
   ],
   "source": [
    "def ave_spd(uphill_time, uphill_rate, downhill_rate):\n",
    "    distance_hill = (uphill_time*uphill_rate) / 60\n",
    "    downhill_time = distance_hill / downhill_rate\n",
    "    total_time = (uphill_time/60) + downhill_time\n",
    "    \n",
    "\n",
    "    return (2*distance_hill) / total_time\n",
    "\n",
    "ave_spd(18, 20, 60)\n",
    "#ave_spd(30, 10, 30)\n",
    "#ave_spd(30, 8, 24)"
   ]
  },
  {
   "cell_type": "code",
   "execution_count": 120,
   "metadata": {},
   "outputs": [
    {
     "data": {
      "text/plain": [
       "False"
      ]
     },
     "execution_count": 120,
     "metadata": {},
     "output_type": "execute_result"
    }
   ],
   "source": [
    "def list_xor(n, list1, list2):\n",
    "    if n in list1 or n in list2:\n",
    "        union = set(list1).intersection(set(list2))\n",
    "        if n in union:\n",
    "            return False\n",
    "        else:\n",
    "            return True\n",
    "    else:\n",
    "        return False\n",
    "\n",
    "list_xor(1, [1, 2, 3], [4, 5, 6])\n",
    "list_xor(1, [1, 2, 3], [1, 5, 6])\n",
    "    "
   ]
  },
  {
   "cell_type": "code",
   "execution_count": null,
   "metadata": {},
   "outputs": [],
   "source": []
  }
 ],
 "metadata": {
  "kernelspec": {
   "display_name": "TIL6022",
   "language": "python",
   "name": "python3"
  },
  "language_info": {
   "codemirror_mode": {
    "name": "ipython",
    "version": 3
   },
   "file_extension": ".py",
   "mimetype": "text/x-python",
   "name": "python",
   "nbconvert_exporter": "python",
   "pygments_lexer": "ipython3",
   "version": "3.11.4"
  },
  "orig_nbformat": 4
 },
 "nbformat": 4,
 "nbformat_minor": 2
}
