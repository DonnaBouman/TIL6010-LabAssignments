{
 "cells": [
  {
   "cell_type": "markdown",
   "metadata": {},
   "source": [
    "# Practice Exam"
   ]
  },
  {
   "cell_type": "markdown",
   "metadata": {},
   "source": [
    "Multiple choice:\n",
    "\n",
    "1a. True\n",
    "1b. math.sqrt() is a built-in function: False\n",
    "2a. 3\n",
    "2b. 000\n",
    "2c. (empty)\n",
    "3a. Forgotton colon, no identation and case sensitive\n",
    "3b. df.Education - df['Education'] - df['Education', :], df.loc['Education'], df.column['Education']\n",
    "3c. Case-sensitive - Colon - identation - \"\"\"\"\n"
   ]
  },
  {
   "cell_type": "markdown",
   "metadata": {},
   "source": [
    "4b"
   ]
  },
  {
   "cell_type": "code",
   "execution_count": 3,
   "metadata": {},
   "outputs": [
    {
     "name": "stdout",
     "output_type": "stream",
     "text": [
      "They are not equal\n",
      "They are not equal\n",
      "They are not equal\n",
      "They are not equal\n",
      "They are not equal\n",
      "They are not equal\n",
      "They are not equal\n",
      "They are not equal\n",
      "They are not equal\n",
      "They are not equal\n",
      "They are not equal\n",
      "They are not equal\n",
      "They are not equal\n",
      "They are not equal\n",
      "They are not equal\n",
      "They are not equal\n",
      "They are not equal\n",
      "They are not equal\n",
      "They are not equal\n"
     ]
    }
   ],
   "source": [
    "x = 10\n",
    "for y in range(0,20):\n",
    "    if x == y:\n",
    "        x += y\n",
    "    else:\n",
    "        print('They are not equal')\n"
   ]
  },
  {
   "cell_type": "code",
   "execution_count": 1,
   "metadata": {},
   "outputs": [
    {
     "data": {
      "text/plain": [
       "2"
      ]
     },
     "execution_count": 1,
     "metadata": {},
     "output_type": "execute_result"
    }
   ],
   "source": [
    "def sorting_numbers(number_list):\n",
    "    positive_numbers = []\n",
    "\n",
    "    for number in number_list:\n",
    "        if number >= 0:\n",
    "            positive_numbers.append(number)\n",
    "    \n",
    "    sorted_positive_numbers = sorted(positive_numbers)\n",
    "\n",
    "    return sorted_positive_numbers[-1] - sorted_positive_numbers[0]\n",
    "\n",
    "sorting_numbers([1, -2, 3, -4])"
   ]
  }
 ],
 "metadata": {
  "kernelspec": {
   "display_name": "TIL6022",
   "language": "python",
   "name": "python3"
  },
  "language_info": {
   "codemirror_mode": {
    "name": "ipython",
    "version": 3
   },
   "file_extension": ".py",
   "mimetype": "text/x-python",
   "name": "python",
   "nbconvert_exporter": "python",
   "pygments_lexer": "ipython3",
   "version": "3.11.4"
  },
  "orig_nbformat": 4
 },
 "nbformat": 4,
 "nbformat_minor": 2
}
