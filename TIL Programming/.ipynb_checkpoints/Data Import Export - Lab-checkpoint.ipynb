{
 "cells": [
  {
   "cell_type": "markdown",
   "metadata": {},
   "source": [
    "# 1. Read and write simple text files"
   ]
  },
  {
   "cell_type": "markdown",
   "metadata": {},
   "source": [
    "A text file `addition.txt` contains a number in each line. Write a python code that"
   ]
  },
  {
   "cell_type": "markdown",
   "metadata": {},
   "source": [
    "### 1.1  Read the file content"
   ]
  },
  {
   "cell_type": "code",
   "execution_count": 27,
   "metadata": {},
   "outputs": [
    {
     "name": "stdout",
     "output_type": "stream",
     "text": [
      "['2', '3', '5', '', '10', ' 4.0', ' 4.0', ' 4.0', ' 4.0']\n"
     ]
    }
   ],
   "source": [
    "# YOUR CODE HERE\n",
    "# Hint: Use the .strip() function to remove whitespaces and newlines characters from a string\n",
    "\n",
    "file_path = 'data/addition.txt'\n",
    "\n",
    "# with open(file_path, 'r') as fp:\n",
    "#     lines = fp.readlines()\n",
    "\n",
    "# lines = [line.replace(' ', '').strip() for line in lines]\n",
    "\n",
    "with open(file_path, 'r') as fp:\n",
    "    lines = fp.readlines()\n",
    "    for i in range(len(lines)):\n",
    "        lines[i] = lines[i].replace(\"\\n\", '')\n",
    "        \n",
    "        \n",
    "    print(lines)\n",
    "\n",
    "#print(lines)\n"
   ]
  },
  {
   "cell_type": "markdown",
   "metadata": {},
   "source": [
    "### 1.2 Calculate their sum"
   ]
  },
  {
   "cell_type": "code",
   "execution_count": 29,
   "metadata": {},
   "outputs": [
    {
     "ename": "ValueError",
     "evalue": "invalid literal for int() with base 10: ' 4.0'",
     "output_type": "error",
     "traceback": [
      "\u001b[1;31m---------------------------------------------------------------------------\u001b[0m",
      "\u001b[1;31mValueError\u001b[0m                                Traceback (most recent call last)",
      "\u001b[1;32mc:\\Users\\jelme\\OneDrive\\Documenten\\TIL\\Data Import Export - Lab.ipynb Cell 6\u001b[0m line \u001b[0;36m6\n\u001b[0;32m      <a href='vscode-notebook-cell:/c%3A/Users/jelme/OneDrive/Documenten/TIL/Data%20Import%20Export%20-%20Lab.ipynb#W5sZmlsZQ%3D%3D?line=3'>4</a>\u001b[0m \u001b[39mfor\u001b[39;00m line \u001b[39min\u001b[39;00m lines:\n\u001b[0;32m      <a href='vscode-notebook-cell:/c%3A/Users/jelme/OneDrive/Documenten/TIL/Data%20Import%20Export%20-%20Lab.ipynb#W5sZmlsZQ%3D%3D?line=4'>5</a>\u001b[0m     \u001b[39mif\u001b[39;00m line \u001b[39m!=\u001b[39m \u001b[39m'\u001b[39m\u001b[39m'\u001b[39m:\n\u001b[1;32m----> <a href='vscode-notebook-cell:/c%3A/Users/jelme/OneDrive/Documenten/TIL/Data%20Import%20Export%20-%20Lab.ipynb#W5sZmlsZQ%3D%3D?line=5'>6</a>\u001b[0m         counter \u001b[39m+\u001b[39m\u001b[39m=\u001b[39m \u001b[39mint\u001b[39m(line)\n\u001b[0;32m      <a href='vscode-notebook-cell:/c%3A/Users/jelme/OneDrive/Documenten/TIL/Data%20Import%20Export%20-%20Lab.ipynb#W5sZmlsZQ%3D%3D?line=7'>8</a>\u001b[0m mean \u001b[39m=\u001b[39m counter \u001b[39m/\u001b[39m \u001b[39mlen\u001b[39m(lines)\n\u001b[0;32m      <a href='vscode-notebook-cell:/c%3A/Users/jelme/OneDrive/Documenten/TIL/Data%20Import%20Export%20-%20Lab.ipynb#W5sZmlsZQ%3D%3D?line=8'>9</a>\u001b[0m \u001b[39mprint\u001b[39m(mean)\n",
      "\u001b[1;31mValueError\u001b[0m: invalid literal for int() with base 10: ' 4.0'"
     ]
    }
   ],
   "source": [
    "# YOUR CODE HERE\n",
    "counter = 0\n",
    "\n",
    "for line in lines:\n",
    "    if line != '':\n",
    "        counter += int(line)\n",
    "\n",
    "mean = counter / len(lines)\n",
    "print(mean)"
   ]
  },
  {
   "cell_type": "markdown",
   "metadata": {},
   "source": [
    "### 1.3 Write the sum at the bottom of the text file"
   ]
  },
  {
   "cell_type": "code",
   "execution_count": null,
   "metadata": {},
   "outputs": [
    {
     "ename": "UnicodeDecodeError",
     "evalue": "'utf-8' codec can't decode byte 0xd2 in position 7431: invalid continuation byte",
     "output_type": "error",
     "traceback": [
      "\u001b[1;31m---------------------------------------------------------------------------\u001b[0m",
      "\u001b[1;31mUnicodeDecodeError\u001b[0m                        Traceback (most recent call last)",
      "\u001b[1;32mc:\\Users\\jelme\\OneDrive\\Documenten\\TIL\\Data Import Export - Lab.ipynb Cell 8\u001b[0m line \u001b[0;36m9\n\u001b[0;32m      <a href='vscode-notebook-cell:/c%3A/Users/jelme/OneDrive/Documenten/TIL/Data%20Import%20Export%20-%20Lab.ipynb#X10sZmlsZQ%3D%3D?line=5'>6</a>\u001b[0m     fp\u001b[39m.\u001b[39mwrite(\u001b[39m'\u001b[39m\u001b[39m\\n\u001b[39;00m\u001b[39m \u001b[39m\u001b[39m{}\u001b[39;00m\u001b[39m'\u001b[39m\u001b[39m.\u001b[39mformat(mean))\n\u001b[0;32m      <a href='vscode-notebook-cell:/c%3A/Users/jelme/OneDrive/Documenten/TIL/Data%20Import%20Export%20-%20Lab.ipynb#X10sZmlsZQ%3D%3D?line=7'>8</a>\u001b[0m \u001b[39mwith\u001b[39;00m \u001b[39mopen\u001b[39m(file_path, \u001b[39m'\u001b[39m\u001b[39mr\u001b[39m\u001b[39m'\u001b[39m) \u001b[39mas\u001b[39;00m fp:\n\u001b[1;32m----> <a href='vscode-notebook-cell:/c%3A/Users/jelme/OneDrive/Documenten/TIL/Data%20Import%20Export%20-%20Lab.ipynb#X10sZmlsZQ%3D%3D?line=8'>9</a>\u001b[0m     \u001b[39mprint\u001b[39m(fp\u001b[39m.\u001b[39mread())\n",
      "File \u001b[1;32m<frozen codecs>:322\u001b[0m, in \u001b[0;36mdecode\u001b[1;34m(self, input, final)\u001b[0m\n",
      "\u001b[1;31mUnicodeDecodeError\u001b[0m: 'utf-8' codec can't decode byte 0xd2 in position 7431: invalid continuation byte"
     ]
    }
   ],
   "source": [
    "# YOUR CODE HERE\n",
    "# Hint: \n",
    "# - You might want to opne the file in the \"Append\" mode\n",
    "# - Add \\n characters to start a new line before writing the sum value\n",
    "with open(file_path, 'a') as fp:\n",
    "    fp.write('\\n {}'.format(mean))\n",
    "\n",
    "with open(file_path, 'r') as fp:\n",
    "    print(fp.read())\n"
   ]
  },
  {
   "cell_type": "markdown",
   "metadata": {},
   "source": [
    "# 2. Pandas"
   ]
  },
  {
   "cell_type": "markdown",
   "metadata": {},
   "source": [
    "In this part, you will practice loading and exploring a data set from Netflix."
   ]
  },
  {
   "cell_type": "markdown",
   "metadata": {},
   "source": [
    "### 2.1. Dataset"
   ]
  },
  {
   "cell_type": "markdown",
   "metadata": {},
   "source": [
    "Import the library"
   ]
  },
  {
   "cell_type": "code",
   "execution_count": null,
   "metadata": {},
   "outputs": [],
   "source": [
    "# YOUR CODE HERE\n",
    "import pandas as pd"
   ]
  },
  {
   "cell_type": "markdown",
   "metadata": {},
   "source": [
    "Read the [Netflix dataset](https://www.kaggle.com/datasets/luiscorter/netflix-original-films-imdb-scores)\n",
    "- Hint: Solution to the encoding problem [here](https://www.kaggle.com/code/paultimothymooney/how-to-resolve-a-unicodedecodeerror-for-a-csv-file/notebook)"
   ]
  },
  {
   "cell_type": "code",
   "execution_count": null,
   "metadata": {},
   "outputs": [
    {
     "data": {
      "text/html": [
       "<div>\n",
       "<style scoped>\n",
       "    .dataframe tbody tr th:only-of-type {\n",
       "        vertical-align: middle;\n",
       "    }\n",
       "\n",
       "    .dataframe tbody tr th {\n",
       "        vertical-align: top;\n",
       "    }\n",
       "\n",
       "    .dataframe thead th {\n",
       "        text-align: right;\n",
       "    }\n",
       "</style>\n",
       "<table border=\"1\" class=\"dataframe\">\n",
       "  <thead>\n",
       "    <tr style=\"text-align: right;\">\n",
       "      <th></th>\n",
       "      <th>Title</th>\n",
       "      <th>Genre</th>\n",
       "      <th>Premiere</th>\n",
       "      <th>Runtime</th>\n",
       "      <th>IMDB Score</th>\n",
       "      <th>Language</th>\n",
       "    </tr>\n",
       "  </thead>\n",
       "  <tbody>\n",
       "    <tr>\n",
       "      <th>0</th>\n",
       "      <td>Enter the Anime</td>\n",
       "      <td>Documentary</td>\n",
       "      <td>August 5, 2019</td>\n",
       "      <td>58.0</td>\n",
       "      <td>2.5</td>\n",
       "      <td>English/Japanese</td>\n",
       "    </tr>\n",
       "    <tr>\n",
       "      <th>1</th>\n",
       "      <td>Dark Forces</td>\n",
       "      <td>Thriller</td>\n",
       "      <td>August 21, 2020</td>\n",
       "      <td>81.0</td>\n",
       "      <td>2.6</td>\n",
       "      <td>Spanish</td>\n",
       "    </tr>\n",
       "    <tr>\n",
       "      <th>2</th>\n",
       "      <td>The App</td>\n",
       "      <td>Science fiction/Drama</td>\n",
       "      <td>December 26, 2019</td>\n",
       "      <td>79.0</td>\n",
       "      <td>2.6</td>\n",
       "      <td>Italian</td>\n",
       "    </tr>\n",
       "    <tr>\n",
       "      <th>3</th>\n",
       "      <td>The Open House</td>\n",
       "      <td>Horror thriller</td>\n",
       "      <td>January 19, 2018</td>\n",
       "      <td>94.0</td>\n",
       "      <td>3.2</td>\n",
       "      <td>English</td>\n",
       "    </tr>\n",
       "    <tr>\n",
       "      <th>4</th>\n",
       "      <td>Kaali Khuhi</td>\n",
       "      <td>Mystery</td>\n",
       "      <td>October 30, 2020</td>\n",
       "      <td>90.0</td>\n",
       "      <td>3.4</td>\n",
       "      <td>Hindi</td>\n",
       "    </tr>\n",
       "    <tr>\n",
       "      <th>...</th>\n",
       "      <td>...</td>\n",
       "      <td>...</td>\n",
       "      <td>...</td>\n",
       "      <td>...</td>\n",
       "      <td>...</td>\n",
       "      <td>...</td>\n",
       "    </tr>\n",
       "    <tr>\n",
       "      <th>586</th>\n",
       "      <td>4.0</td>\n",
       "      <td>NaN</td>\n",
       "      <td>NaN</td>\n",
       "      <td>NaN</td>\n",
       "      <td>NaN</td>\n",
       "      <td>NaN</td>\n",
       "    </tr>\n",
       "    <tr>\n",
       "      <th>587</th>\n",
       "      <td>4.0</td>\n",
       "      <td>NaN</td>\n",
       "      <td>NaN</td>\n",
       "      <td>NaN</td>\n",
       "      <td>NaN</td>\n",
       "      <td>NaN</td>\n",
       "    </tr>\n",
       "    <tr>\n",
       "      <th>588</th>\n",
       "      <td>4.0</td>\n",
       "      <td>NaN</td>\n",
       "      <td>NaN</td>\n",
       "      <td>NaN</td>\n",
       "      <td>NaN</td>\n",
       "      <td>NaN</td>\n",
       "    </tr>\n",
       "    <tr>\n",
       "      <th>589</th>\n",
       "      <td>4.0</td>\n",
       "      <td>NaN</td>\n",
       "      <td>NaN</td>\n",
       "      <td>NaN</td>\n",
       "      <td>NaN</td>\n",
       "      <td>NaN</td>\n",
       "    </tr>\n",
       "    <tr>\n",
       "      <th>590</th>\n",
       "      <td>4.0</td>\n",
       "      <td>NaN</td>\n",
       "      <td>NaN</td>\n",
       "      <td>NaN</td>\n",
       "      <td>NaN</td>\n",
       "      <td>NaN</td>\n",
       "    </tr>\n",
       "  </tbody>\n",
       "</table>\n",
       "<p>591 rows × 6 columns</p>\n",
       "</div>"
      ],
      "text/plain": [
       "               Title                  Genre           Premiere  Runtime  \\\n",
       "0    Enter the Anime            Documentary     August 5, 2019     58.0   \n",
       "1        Dark Forces               Thriller    August 21, 2020     81.0   \n",
       "2            The App  Science fiction/Drama  December 26, 2019     79.0   \n",
       "3     The Open House        Horror thriller   January 19, 2018     94.0   \n",
       "4        Kaali Khuhi                Mystery   October 30, 2020     90.0   \n",
       "..               ...                    ...                ...      ...   \n",
       "586              4.0                    NaN                NaN      NaN   \n",
       "587              4.0                    NaN                NaN      NaN   \n",
       "588              4.0                    NaN                NaN      NaN   \n",
       "589              4.0                    NaN                NaN      NaN   \n",
       "590              4.0                    NaN                NaN      NaN   \n",
       "\n",
       "     IMDB Score          Language  \n",
       "0           2.5  English/Japanese  \n",
       "1           2.6           Spanish  \n",
       "2           2.6           Italian  \n",
       "3           3.2           English  \n",
       "4           3.4             Hindi  \n",
       "..          ...               ...  \n",
       "586         NaN               NaN  \n",
       "587         NaN               NaN  \n",
       "588         NaN               NaN  \n",
       "589         NaN               NaN  \n",
       "590         NaN               NaN  \n",
       "\n",
       "[591 rows x 6 columns]"
      ]
     },
     "execution_count": 10,
     "metadata": {},
     "output_type": "execute_result"
    }
   ],
   "source": [
    "# YOUR CODE HERE\n",
    "import chardet\n",
    "\n",
    "with open(file_path, 'rb') as rawdata:\n",
    "    result = chardet.detect(rawdata.read(100000))\n",
    "result\n",
    "\n",
    "file_path = 'data/NetflixOriginals.csv'\n",
    "df = pd.read_csv(file_path, encoding='Windows-1252')\n",
    "df"
   ]
  },
  {
   "cell_type": "markdown",
   "metadata": {},
   "source": [
    "### 2.2 Show the first 3 rows"
   ]
  },
  {
   "cell_type": "code",
   "execution_count": null,
   "metadata": {},
   "outputs": [
    {
     "data": {
      "text/html": [
       "<div>\n",
       "<style scoped>\n",
       "    .dataframe tbody tr th:only-of-type {\n",
       "        vertical-align: middle;\n",
       "    }\n",
       "\n",
       "    .dataframe tbody tr th {\n",
       "        vertical-align: top;\n",
       "    }\n",
       "\n",
       "    .dataframe thead th {\n",
       "        text-align: right;\n",
       "    }\n",
       "</style>\n",
       "<table border=\"1\" class=\"dataframe\">\n",
       "  <thead>\n",
       "    <tr style=\"text-align: right;\">\n",
       "      <th></th>\n",
       "      <th>Title</th>\n",
       "      <th>Genre</th>\n",
       "      <th>Premiere</th>\n",
       "      <th>Runtime</th>\n",
       "      <th>IMDB Score</th>\n",
       "      <th>Language</th>\n",
       "    </tr>\n",
       "  </thead>\n",
       "  <tbody>\n",
       "    <tr>\n",
       "      <th>0</th>\n",
       "      <td>Enter the Anime</td>\n",
       "      <td>Documentary</td>\n",
       "      <td>August 5, 2019</td>\n",
       "      <td>58.0</td>\n",
       "      <td>2.5</td>\n",
       "      <td>English/Japanese</td>\n",
       "    </tr>\n",
       "    <tr>\n",
       "      <th>1</th>\n",
       "      <td>Dark Forces</td>\n",
       "      <td>Thriller</td>\n",
       "      <td>August 21, 2020</td>\n",
       "      <td>81.0</td>\n",
       "      <td>2.6</td>\n",
       "      <td>Spanish</td>\n",
       "    </tr>\n",
       "    <tr>\n",
       "      <th>2</th>\n",
       "      <td>The App</td>\n",
       "      <td>Science fiction/Drama</td>\n",
       "      <td>December 26, 2019</td>\n",
       "      <td>79.0</td>\n",
       "      <td>2.6</td>\n",
       "      <td>Italian</td>\n",
       "    </tr>\n",
       "  </tbody>\n",
       "</table>\n",
       "</div>"
      ],
      "text/plain": [
       "             Title                  Genre           Premiere  Runtime  \\\n",
       "0  Enter the Anime            Documentary     August 5, 2019     58.0   \n",
       "1      Dark Forces               Thriller    August 21, 2020     81.0   \n",
       "2          The App  Science fiction/Drama  December 26, 2019     79.0   \n",
       "\n",
       "   IMDB Score          Language  \n",
       "0         2.5  English/Japanese  \n",
       "1         2.6           Spanish  \n",
       "2         2.6           Italian  "
      ]
     },
     "execution_count": 11,
     "metadata": {},
     "output_type": "execute_result"
    }
   ],
   "source": [
    "# YOUR CODE HERE\n",
    "df.iloc[0:3, :]"
   ]
  },
  {
   "cell_type": "markdown",
   "metadata": {},
   "source": [
    "### 2.3. Show the last 5 rows"
   ]
  },
  {
   "cell_type": "code",
   "execution_count": null,
   "metadata": {},
   "outputs": [
    {
     "data": {
      "text/html": [
       "<div>\n",
       "<style scoped>\n",
       "    .dataframe tbody tr th:only-of-type {\n",
       "        vertical-align: middle;\n",
       "    }\n",
       "\n",
       "    .dataframe tbody tr th {\n",
       "        vertical-align: top;\n",
       "    }\n",
       "\n",
       "    .dataframe thead th {\n",
       "        text-align: right;\n",
       "    }\n",
       "</style>\n",
       "<table border=\"1\" class=\"dataframe\">\n",
       "  <thead>\n",
       "    <tr style=\"text-align: right;\">\n",
       "      <th></th>\n",
       "      <th>Title</th>\n",
       "      <th>Genre</th>\n",
       "      <th>Premiere</th>\n",
       "      <th>Runtime</th>\n",
       "      <th>IMDB Score</th>\n",
       "      <th>Language</th>\n",
       "    </tr>\n",
       "  </thead>\n",
       "  <tbody>\n",
       "    <tr>\n",
       "      <th>586</th>\n",
       "      <td>4.0</td>\n",
       "      <td>NaN</td>\n",
       "      <td>NaN</td>\n",
       "      <td>NaN</td>\n",
       "      <td>NaN</td>\n",
       "      <td>NaN</td>\n",
       "    </tr>\n",
       "    <tr>\n",
       "      <th>587</th>\n",
       "      <td>4.0</td>\n",
       "      <td>NaN</td>\n",
       "      <td>NaN</td>\n",
       "      <td>NaN</td>\n",
       "      <td>NaN</td>\n",
       "      <td>NaN</td>\n",
       "    </tr>\n",
       "    <tr>\n",
       "      <th>588</th>\n",
       "      <td>4.0</td>\n",
       "      <td>NaN</td>\n",
       "      <td>NaN</td>\n",
       "      <td>NaN</td>\n",
       "      <td>NaN</td>\n",
       "      <td>NaN</td>\n",
       "    </tr>\n",
       "    <tr>\n",
       "      <th>589</th>\n",
       "      <td>4.0</td>\n",
       "      <td>NaN</td>\n",
       "      <td>NaN</td>\n",
       "      <td>NaN</td>\n",
       "      <td>NaN</td>\n",
       "      <td>NaN</td>\n",
       "    </tr>\n",
       "    <tr>\n",
       "      <th>590</th>\n",
       "      <td>4.0</td>\n",
       "      <td>NaN</td>\n",
       "      <td>NaN</td>\n",
       "      <td>NaN</td>\n",
       "      <td>NaN</td>\n",
       "      <td>NaN</td>\n",
       "    </tr>\n",
       "  </tbody>\n",
       "</table>\n",
       "</div>"
      ],
      "text/plain": [
       "    Title Genre Premiere  Runtime  IMDB Score Language\n",
       "586   4.0   NaN      NaN      NaN         NaN      NaN\n",
       "587   4.0   NaN      NaN      NaN         NaN      NaN\n",
       "588   4.0   NaN      NaN      NaN         NaN      NaN\n",
       "589   4.0   NaN      NaN      NaN         NaN      NaN\n",
       "590   4.0   NaN      NaN      NaN         NaN      NaN"
      ]
     },
     "execution_count": 12,
     "metadata": {},
     "output_type": "execute_result"
    }
   ],
   "source": [
    "# YOUR CODE HERE\n",
    "df.iloc[-5:, :]"
   ]
  },
  {
   "cell_type": "markdown",
   "metadata": {},
   "source": [
    "### 2.4. Show the title and the genre of the 100th movie in the database?"
   ]
  },
  {
   "cell_type": "code",
   "execution_count": null,
   "metadata": {},
   "outputs": [
    {
     "data": {
      "text/html": [
       "<div>\n",
       "<style scoped>\n",
       "    .dataframe tbody tr th:only-of-type {\n",
       "        vertical-align: middle;\n",
       "    }\n",
       "\n",
       "    .dataframe tbody tr th {\n",
       "        vertical-align: top;\n",
       "    }\n",
       "\n",
       "    .dataframe thead th {\n",
       "        text-align: right;\n",
       "    }\n",
       "</style>\n",
       "<table border=\"1\" class=\"dataframe\">\n",
       "  <thead>\n",
       "    <tr style=\"text-align: right;\">\n",
       "      <th></th>\n",
       "      <th>Title</th>\n",
       "      <th>Genre</th>\n",
       "      <th>Premiere</th>\n",
       "      <th>Runtime</th>\n",
       "      <th>IMDB Score</th>\n",
       "      <th>Language</th>\n",
       "    </tr>\n",
       "  </thead>\n",
       "  <tbody>\n",
       "    <tr>\n",
       "      <th>100</th>\n",
       "      <td>Guilty</td>\n",
       "      <td>Thriller</td>\n",
       "      <td>March 6, 2020</td>\n",
       "      <td>119.0</td>\n",
       "      <td>5.4</td>\n",
       "      <td>Hindi</td>\n",
       "    </tr>\n",
       "  </tbody>\n",
       "</table>\n",
       "</div>"
      ],
      "text/plain": [
       "      Title     Genre       Premiere  Runtime  IMDB Score Language\n",
       "100  Guilty  Thriller  March 6, 2020    119.0         5.4    Hindi"
      ]
     },
     "execution_count": 13,
     "metadata": {},
     "output_type": "execute_result"
    }
   ],
   "source": [
    "# YOUR CODE HERE\n",
    "df.iloc[100:101, :]"
   ]
  },
  {
   "cell_type": "markdown",
   "metadata": {},
   "source": [
    "### 2.5. Set the column Title as index for the dataset."
   ]
  },
  {
   "cell_type": "code",
   "execution_count": null,
   "metadata": {},
   "outputs": [
    {
     "data": {
      "text/html": [
       "<div>\n",
       "<style scoped>\n",
       "    .dataframe tbody tr th:only-of-type {\n",
       "        vertical-align: middle;\n",
       "    }\n",
       "\n",
       "    .dataframe tbody tr th {\n",
       "        vertical-align: top;\n",
       "    }\n",
       "\n",
       "    .dataframe thead th {\n",
       "        text-align: right;\n",
       "    }\n",
       "</style>\n",
       "<table border=\"1\" class=\"dataframe\">\n",
       "  <thead>\n",
       "    <tr style=\"text-align: right;\">\n",
       "      <th></th>\n",
       "      <th>Genre</th>\n",
       "      <th>Premiere</th>\n",
       "      <th>Runtime</th>\n",
       "      <th>IMDB Score</th>\n",
       "      <th>Language</th>\n",
       "    </tr>\n",
       "    <tr>\n",
       "      <th>Title</th>\n",
       "      <th></th>\n",
       "      <th></th>\n",
       "      <th></th>\n",
       "      <th></th>\n",
       "      <th></th>\n",
       "    </tr>\n",
       "  </thead>\n",
       "  <tbody>\n",
       "    <tr>\n",
       "      <th>Enter the Anime</th>\n",
       "      <td>Documentary</td>\n",
       "      <td>August 5, 2019</td>\n",
       "      <td>58.0</td>\n",
       "      <td>2.5</td>\n",
       "      <td>English/Japanese</td>\n",
       "    </tr>\n",
       "    <tr>\n",
       "      <th>Dark Forces</th>\n",
       "      <td>Thriller</td>\n",
       "      <td>August 21, 2020</td>\n",
       "      <td>81.0</td>\n",
       "      <td>2.6</td>\n",
       "      <td>Spanish</td>\n",
       "    </tr>\n",
       "    <tr>\n",
       "      <th>The App</th>\n",
       "      <td>Science fiction/Drama</td>\n",
       "      <td>December 26, 2019</td>\n",
       "      <td>79.0</td>\n",
       "      <td>2.6</td>\n",
       "      <td>Italian</td>\n",
       "    </tr>\n",
       "    <tr>\n",
       "      <th>The Open House</th>\n",
       "      <td>Horror thriller</td>\n",
       "      <td>January 19, 2018</td>\n",
       "      <td>94.0</td>\n",
       "      <td>3.2</td>\n",
       "      <td>English</td>\n",
       "    </tr>\n",
       "    <tr>\n",
       "      <th>Kaali Khuhi</th>\n",
       "      <td>Mystery</td>\n",
       "      <td>October 30, 2020</td>\n",
       "      <td>90.0</td>\n",
       "      <td>3.4</td>\n",
       "      <td>Hindi</td>\n",
       "    </tr>\n",
       "    <tr>\n",
       "      <th>...</th>\n",
       "      <td>...</td>\n",
       "      <td>...</td>\n",
       "      <td>...</td>\n",
       "      <td>...</td>\n",
       "      <td>...</td>\n",
       "    </tr>\n",
       "    <tr>\n",
       "      <th>4.0</th>\n",
       "      <td>NaN</td>\n",
       "      <td>NaN</td>\n",
       "      <td>NaN</td>\n",
       "      <td>NaN</td>\n",
       "      <td>NaN</td>\n",
       "    </tr>\n",
       "    <tr>\n",
       "      <th>4.0</th>\n",
       "      <td>NaN</td>\n",
       "      <td>NaN</td>\n",
       "      <td>NaN</td>\n",
       "      <td>NaN</td>\n",
       "      <td>NaN</td>\n",
       "    </tr>\n",
       "    <tr>\n",
       "      <th>4.0</th>\n",
       "      <td>NaN</td>\n",
       "      <td>NaN</td>\n",
       "      <td>NaN</td>\n",
       "      <td>NaN</td>\n",
       "      <td>NaN</td>\n",
       "    </tr>\n",
       "    <tr>\n",
       "      <th>4.0</th>\n",
       "      <td>NaN</td>\n",
       "      <td>NaN</td>\n",
       "      <td>NaN</td>\n",
       "      <td>NaN</td>\n",
       "      <td>NaN</td>\n",
       "    </tr>\n",
       "    <tr>\n",
       "      <th>4.0</th>\n",
       "      <td>NaN</td>\n",
       "      <td>NaN</td>\n",
       "      <td>NaN</td>\n",
       "      <td>NaN</td>\n",
       "      <td>NaN</td>\n",
       "    </tr>\n",
       "  </tbody>\n",
       "</table>\n",
       "<p>591 rows × 5 columns</p>\n",
       "</div>"
      ],
      "text/plain": [
       "                                 Genre           Premiere  Runtime  \\\n",
       "Title                                                                \n",
       "Enter the Anime            Documentary     August 5, 2019     58.0   \n",
       "Dark Forces                   Thriller    August 21, 2020     81.0   \n",
       "The App          Science fiction/Drama  December 26, 2019     79.0   \n",
       "The Open House         Horror thriller   January 19, 2018     94.0   \n",
       "Kaali Khuhi                    Mystery   October 30, 2020     90.0   \n",
       "...                                ...                ...      ...   \n",
       "4.0                                NaN                NaN      NaN   \n",
       " 4.0                               NaN                NaN      NaN   \n",
       " 4.0                               NaN                NaN      NaN   \n",
       " 4.0                               NaN                NaN      NaN   \n",
       " 4.0                               NaN                NaN      NaN   \n",
       "\n",
       "                 IMDB Score          Language  \n",
       "Title                                          \n",
       "Enter the Anime         2.5  English/Japanese  \n",
       "Dark Forces             2.6           Spanish  \n",
       "The App                 2.6           Italian  \n",
       "The Open House          3.2           English  \n",
       "Kaali Khuhi             3.4             Hindi  \n",
       "...                     ...               ...  \n",
       "4.0                     NaN               NaN  \n",
       " 4.0                    NaN               NaN  \n",
       " 4.0                    NaN               NaN  \n",
       " 4.0                    NaN               NaN  \n",
       " 4.0                    NaN               NaN  \n",
       "\n",
       "[591 rows x 5 columns]"
      ]
     },
     "execution_count": 14,
     "metadata": {},
     "output_type": "execute_result"
    }
   ],
   "source": [
    "# YOUR CODE HERE\n",
    "df.set_index('Title', inplace=True)\n",
    "df"
   ]
  },
  {
   "cell_type": "markdown",
   "metadata": {},
   "source": [
    "### 2.6. How many movies are there in the dataset?"
   ]
  },
  {
   "cell_type": "code",
   "execution_count": null,
   "metadata": {},
   "outputs": [
    {
     "data": {
      "text/plain": [
       "Genre         584\n",
       "Premiere      584\n",
       "Runtime       584\n",
       "IMDB Score    584\n",
       "Language      584\n",
       "dtype: int64"
      ]
     },
     "execution_count": 15,
     "metadata": {},
     "output_type": "execute_result"
    }
   ],
   "source": [
    "# YOUR CODE HERE\n",
    "df.count()"
   ]
  },
  {
   "cell_type": "markdown",
   "metadata": {},
   "source": [
    "### 2.7. For each movie, what information are available?"
   ]
  },
  {
   "cell_type": "code",
   "execution_count": null,
   "metadata": {},
   "outputs": [
    {
     "data": {
      "text/plain": [
       "<bound method DataFrame.info of                                  Genre           Premiere  Runtime  \\\n",
       "Title                                                                \n",
       "Enter the Anime            Documentary     August 5, 2019     58.0   \n",
       "Dark Forces                   Thriller    August 21, 2020     81.0   \n",
       "The App          Science fiction/Drama  December 26, 2019     79.0   \n",
       "The Open House         Horror thriller   January 19, 2018     94.0   \n",
       "Kaali Khuhi                    Mystery   October 30, 2020     90.0   \n",
       "...                                ...                ...      ...   \n",
       "4.0                                NaN                NaN      NaN   \n",
       " 4.0                               NaN                NaN      NaN   \n",
       " 4.0                               NaN                NaN      NaN   \n",
       " 4.0                               NaN                NaN      NaN   \n",
       " 4.0                               NaN                NaN      NaN   \n",
       "\n",
       "                 IMDB Score          Language  \n",
       "Title                                          \n",
       "Enter the Anime         2.5  English/Japanese  \n",
       "Dark Forces             2.6           Spanish  \n",
       "The App                 2.6           Italian  \n",
       "The Open House          3.2           English  \n",
       "Kaali Khuhi             3.4             Hindi  \n",
       "...                     ...               ...  \n",
       "4.0                     NaN               NaN  \n",
       " 4.0                    NaN               NaN  \n",
       " 4.0                    NaN               NaN  \n",
       " 4.0                    NaN               NaN  \n",
       " 4.0                    NaN               NaN  \n",
       "\n",
       "[591 rows x 5 columns]>"
      ]
     },
     "execution_count": 16,
     "metadata": {},
     "output_type": "execute_result"
    }
   ],
   "source": [
    "# YOUR CODE HERE\n",
    "df.info"
   ]
  },
  {
   "cell_type": "markdown",
   "metadata": {},
   "source": [
    "### 2.8. What is the highest IMDB score in the dataset?"
   ]
  },
  {
   "cell_type": "code",
   "execution_count": null,
   "metadata": {},
   "outputs": [
    {
     "data": {
      "text/plain": [
       "9.0"
      ]
     },
     "execution_count": 17,
     "metadata": {},
     "output_type": "execute_result"
    }
   ],
   "source": [
    "# YOUR CODE HERE\n",
    "df['IMDB Score'].max()"
   ]
  },
  {
   "cell_type": "markdown",
   "metadata": {},
   "source": [
    "### 2.9. Which movies are scored the highest?"
   ]
  },
  {
   "cell_type": "code",
   "execution_count": null,
   "metadata": {},
   "outputs": [
    {
     "data": {
      "text/html": [
       "<div>\n",
       "<style scoped>\n",
       "    .dataframe tbody tr th:only-of-type {\n",
       "        vertical-align: middle;\n",
       "    }\n",
       "\n",
       "    .dataframe tbody tr th {\n",
       "        vertical-align: top;\n",
       "    }\n",
       "\n",
       "    .dataframe thead th {\n",
       "        text-align: right;\n",
       "    }\n",
       "</style>\n",
       "<table border=\"1\" class=\"dataframe\">\n",
       "  <thead>\n",
       "    <tr style=\"text-align: right;\">\n",
       "      <th></th>\n",
       "      <th>Genre</th>\n",
       "      <th>Premiere</th>\n",
       "      <th>Runtime</th>\n",
       "      <th>IMDB Score</th>\n",
       "      <th>Language</th>\n",
       "    </tr>\n",
       "    <tr>\n",
       "      <th>Title</th>\n",
       "      <th></th>\n",
       "      <th></th>\n",
       "      <th></th>\n",
       "      <th></th>\n",
       "      <th></th>\n",
       "    </tr>\n",
       "  </thead>\n",
       "  <tbody>\n",
       "    <tr>\n",
       "      <th>David Attenborough: A Life on Our Planet</th>\n",
       "      <td>Documentary</td>\n",
       "      <td>October 4, 2020</td>\n",
       "      <td>83.0</td>\n",
       "      <td>9.0</td>\n",
       "      <td>English</td>\n",
       "    </tr>\n",
       "  </tbody>\n",
       "</table>\n",
       "</div>"
      ],
      "text/plain": [
       "                                                Genre         Premiere  \\\n",
       "Title                                                                    \n",
       "David Attenborough: A Life on Our Planet  Documentary  October 4, 2020   \n",
       "\n",
       "                                          Runtime  IMDB Score Language  \n",
       "Title                                                                   \n",
       "David Attenborough: A Life on Our Planet     83.0         9.0  English  "
      ]
     },
     "execution_count": 18,
     "metadata": {},
     "output_type": "execute_result"
    }
   ],
   "source": [
    "# YOUR CODE HERE\n",
    "df[df['IMDB Score'] == 9.0]"
   ]
  },
  {
   "cell_type": "markdown",
   "metadata": {},
   "source": [
    "### 2.10. What is the lowest IMDB score?"
   ]
  },
  {
   "cell_type": "code",
   "execution_count": null,
   "metadata": {},
   "outputs": [
    {
     "data": {
      "text/plain": [
       "2.5"
      ]
     },
     "execution_count": 19,
     "metadata": {},
     "output_type": "execute_result"
    }
   ],
   "source": [
    "# YOUR CODE HERE\n",
    "df['IMDB Score'].min()"
   ]
  },
  {
   "cell_type": "markdown",
   "metadata": {},
   "source": [
    "### 2.11. What movies are scored the lowest?"
   ]
  },
  {
   "cell_type": "code",
   "execution_count": null,
   "metadata": {},
   "outputs": [
    {
     "data": {
      "text/html": [
       "<div>\n",
       "<style scoped>\n",
       "    .dataframe tbody tr th:only-of-type {\n",
       "        vertical-align: middle;\n",
       "    }\n",
       "\n",
       "    .dataframe tbody tr th {\n",
       "        vertical-align: top;\n",
       "    }\n",
       "\n",
       "    .dataframe thead th {\n",
       "        text-align: right;\n",
       "    }\n",
       "</style>\n",
       "<table border=\"1\" class=\"dataframe\">\n",
       "  <thead>\n",
       "    <tr style=\"text-align: right;\">\n",
       "      <th></th>\n",
       "      <th>Genre</th>\n",
       "      <th>Premiere</th>\n",
       "      <th>Runtime</th>\n",
       "      <th>IMDB Score</th>\n",
       "      <th>Language</th>\n",
       "    </tr>\n",
       "    <tr>\n",
       "      <th>Title</th>\n",
       "      <th></th>\n",
       "      <th></th>\n",
       "      <th></th>\n",
       "      <th></th>\n",
       "      <th></th>\n",
       "    </tr>\n",
       "  </thead>\n",
       "  <tbody>\n",
       "    <tr>\n",
       "      <th>Enter the Anime</th>\n",
       "      <td>Documentary</td>\n",
       "      <td>August 5, 2019</td>\n",
       "      <td>58.0</td>\n",
       "      <td>2.5</td>\n",
       "      <td>English/Japanese</td>\n",
       "    </tr>\n",
       "  </tbody>\n",
       "</table>\n",
       "</div>"
      ],
      "text/plain": [
       "                       Genre        Premiere  Runtime  IMDB Score  \\\n",
       "Title                                                               \n",
       "Enter the Anime  Documentary  August 5, 2019     58.0         2.5   \n",
       "\n",
       "                         Language  \n",
       "Title                              \n",
       "Enter the Anime  English/Japanese  "
      ]
     },
     "execution_count": 20,
     "metadata": {},
     "output_type": "execute_result"
    }
   ],
   "source": [
    "# YOUR CODE HERE\n",
    "df[df['IMDB Score'] == 2.5]"
   ]
  },
  {
   "cell_type": "markdown",
   "metadata": {},
   "source": [
    "### 2.12. Consider only-English-language movies, find those that are scored above their average score"
   ]
  },
  {
   "cell_type": "code",
   "execution_count": null,
   "metadata": {},
   "outputs": [
    {
     "data": {
      "text/html": [
       "<div>\n",
       "<style scoped>\n",
       "    .dataframe tbody tr th:only-of-type {\n",
       "        vertical-align: middle;\n",
       "    }\n",
       "\n",
       "    .dataframe tbody tr th {\n",
       "        vertical-align: top;\n",
       "    }\n",
       "\n",
       "    .dataframe thead th {\n",
       "        text-align: right;\n",
       "    }\n",
       "</style>\n",
       "<table border=\"1\" class=\"dataframe\">\n",
       "  <thead>\n",
       "    <tr style=\"text-align: right;\">\n",
       "      <th></th>\n",
       "      <th>Genre</th>\n",
       "      <th>Premiere</th>\n",
       "      <th>Runtime</th>\n",
       "      <th>IMDB Score</th>\n",
       "      <th>Language</th>\n",
       "    </tr>\n",
       "    <tr>\n",
       "      <th>Title</th>\n",
       "      <th></th>\n",
       "      <th></th>\n",
       "      <th></th>\n",
       "      <th></th>\n",
       "      <th></th>\n",
       "    </tr>\n",
       "  </thead>\n",
       "  <tbody>\n",
       "    <tr>\n",
       "      <th>Ariana Grande: Excuse Me, I Love You</th>\n",
       "      <td>Concert Film</td>\n",
       "      <td>December 21, 2020</td>\n",
       "      <td>97.0</td>\n",
       "      <td>6.4</td>\n",
       "      <td>English</td>\n",
       "    </tr>\n",
       "    <tr>\n",
       "      <th>ARQ</th>\n",
       "      <td>Science fiction/Thriller</td>\n",
       "      <td>September 16, 2016</td>\n",
       "      <td>88.0</td>\n",
       "      <td>6.4</td>\n",
       "      <td>English</td>\n",
       "    </tr>\n",
       "    <tr>\n",
       "      <th>First Match</th>\n",
       "      <td>Sports-drama</td>\n",
       "      <td>March 30, 2018</td>\n",
       "      <td>102.0</td>\n",
       "      <td>6.4</td>\n",
       "      <td>English</td>\n",
       "    </tr>\n",
       "    <tr>\n",
       "      <th>Fractured</th>\n",
       "      <td>Thriller</td>\n",
       "      <td>October 11, 2019</td>\n",
       "      <td>100.0</td>\n",
       "      <td>6.4</td>\n",
       "      <td>English</td>\n",
       "    </tr>\n",
       "    <tr>\n",
       "      <th>Irreplaceable You</th>\n",
       "      <td>Drama</td>\n",
       "      <td>February 16, 2018</td>\n",
       "      <td>96.0</td>\n",
       "      <td>6.4</td>\n",
       "      <td>English</td>\n",
       "    </tr>\n",
       "    <tr>\n",
       "      <th>...</th>\n",
       "      <td>...</td>\n",
       "      <td>...</td>\n",
       "      <td>...</td>\n",
       "      <td>...</td>\n",
       "      <td>...</td>\n",
       "    </tr>\n",
       "    <tr>\n",
       "      <th>Dancing with the Birds</th>\n",
       "      <td>Documentary</td>\n",
       "      <td>October 23, 2019</td>\n",
       "      <td>51.0</td>\n",
       "      <td>8.3</td>\n",
       "      <td>English</td>\n",
       "    </tr>\n",
       "    <tr>\n",
       "      <th>Ben Platt: Live from Radio City Music Hall</th>\n",
       "      <td>Concert Film</td>\n",
       "      <td>May 20, 2020</td>\n",
       "      <td>85.0</td>\n",
       "      <td>8.4</td>\n",
       "      <td>English</td>\n",
       "    </tr>\n",
       "    <tr>\n",
       "      <th>Taylor Swift: Reputation Stadium Tour</th>\n",
       "      <td>Concert Film</td>\n",
       "      <td>December 31, 2018</td>\n",
       "      <td>125.0</td>\n",
       "      <td>8.4</td>\n",
       "      <td>English</td>\n",
       "    </tr>\n",
       "    <tr>\n",
       "      <th>Springsteen on Broadway</th>\n",
       "      <td>One-man show</td>\n",
       "      <td>December 16, 2018</td>\n",
       "      <td>153.0</td>\n",
       "      <td>8.5</td>\n",
       "      <td>English</td>\n",
       "    </tr>\n",
       "    <tr>\n",
       "      <th>David Attenborough: A Life on Our Planet</th>\n",
       "      <td>Documentary</td>\n",
       "      <td>October 4, 2020</td>\n",
       "      <td>83.0</td>\n",
       "      <td>9.0</td>\n",
       "      <td>English</td>\n",
       "    </tr>\n",
       "  </tbody>\n",
       "</table>\n",
       "<p>210 rows × 5 columns</p>\n",
       "</div>"
      ],
      "text/plain": [
       "                                                               Genre  \\\n",
       "Title                                                                  \n",
       "Ariana Grande: Excuse Me, I Love You                    Concert Film   \n",
       "ARQ                                         Science fiction/Thriller   \n",
       "First Match                                             Sports-drama   \n",
       "Fractured                                                   Thriller   \n",
       "Irreplaceable You                                              Drama   \n",
       "...                                                              ...   \n",
       "Dancing with the Birds                                   Documentary   \n",
       "Ben Platt: Live from Radio City Music Hall              Concert Film   \n",
       "Taylor Swift: Reputation Stadium Tour                   Concert Film   \n",
       "Springsteen on Broadway                                 One-man show   \n",
       "David Attenborough: A Life on Our Planet                 Documentary   \n",
       "\n",
       "                                                      Premiere  Runtime  \\\n",
       "Title                                                                     \n",
       "Ariana Grande: Excuse Me, I Love You         December 21, 2020     97.0   \n",
       "ARQ                                         September 16, 2016     88.0   \n",
       "First Match                                     March 30, 2018    102.0   \n",
       "Fractured                                     October 11, 2019    100.0   \n",
       "Irreplaceable You                            February 16, 2018     96.0   \n",
       "...                                                        ...      ...   \n",
       "Dancing with the Birds                        October 23, 2019     51.0   \n",
       "Ben Platt: Live from Radio City Music Hall        May 20, 2020     85.0   \n",
       "Taylor Swift: Reputation Stadium Tour        December 31, 2018    125.0   \n",
       "Springsteen on Broadway                      December 16, 2018    153.0   \n",
       "David Attenborough: A Life on Our Planet       October 4, 2020     83.0   \n",
       "\n",
       "                                            IMDB Score Language  \n",
       "Title                                                            \n",
       "Ariana Grande: Excuse Me, I Love You               6.4  English  \n",
       "ARQ                                                6.4  English  \n",
       "First Match                                        6.4  English  \n",
       "Fractured                                          6.4  English  \n",
       "Irreplaceable You                                  6.4  English  \n",
       "...                                                ...      ...  \n",
       "Dancing with the Birds                             8.3  English  \n",
       "Ben Platt: Live from Radio City Music Hall         8.4  English  \n",
       "Taylor Swift: Reputation Stadium Tour              8.4  English  \n",
       "Springsteen on Broadway                            8.5  English  \n",
       "David Attenborough: A Life on Our Planet           9.0  English  \n",
       "\n",
       "[210 rows x 5 columns]"
      ]
     },
     "execution_count": 21,
     "metadata": {},
     "output_type": "execute_result"
    }
   ],
   "source": [
    "# YOUR CODE HERE\n",
    "\n",
    "# print the average IMDB score\n",
    "\n",
    "# show all those score higher than the average\n",
    "\n",
    "movies = df.groupby('Language')\n",
    "english_movies = movies.get_group('English')\n",
    "mean_english = english_movies['IMDB Score'].mean()\n",
    "\n",
    "greater_mean = english_movies['IMDB Score'] >= mean_english\n",
    "\n",
    "english_movies[greater_mean]"
   ]
  },
  {
   "cell_type": "markdown",
   "metadata": {},
   "source": [
    "### 2.13. (Optional) Is there a correlation between runtime and IMDB score?"
   ]
  },
  {
   "cell_type": "code",
   "execution_count": null,
   "metadata": {},
   "outputs": [],
   "source": []
  },
  {
   "cell_type": "markdown",
   "metadata": {},
   "source": [
    "### 2.14 How many languages available?"
   ]
  },
  {
   "cell_type": "code",
   "execution_count": null,
   "metadata": {},
   "outputs": [
    {
     "ename": "TypeError",
     "evalue": "argument of type 'float' is not iterable",
     "output_type": "error",
     "traceback": [
      "\u001b[1;31m---------------------------------------------------------------------------\u001b[0m",
      "\u001b[1;31mTypeError\u001b[0m                                 Traceback (most recent call last)",
      "\u001b[1;32mc:\\Users\\jelme\\OneDrive\\Documenten\\TIL\\Data Import Export - Lab.ipynb Cell 41\u001b[0m line \u001b[0;36m6\n\u001b[0;32m      <a href='vscode-notebook-cell:/c%3A/Users/jelme/OneDrive/Documenten/TIL/Data%20Import%20Export%20-%20Lab.ipynb#X55sZmlsZQ%3D%3D?line=2'>3</a>\u001b[0m distinct_languages \u001b[39m=\u001b[39m \u001b[39mset\u001b[39m()\n\u001b[0;32m      <a href='vscode-notebook-cell:/c%3A/Users/jelme/OneDrive/Documenten/TIL/Data%20Import%20Export%20-%20Lab.ipynb#X55sZmlsZQ%3D%3D?line=4'>5</a>\u001b[0m \u001b[39mfor\u001b[39;00m language \u001b[39min\u001b[39;00m languages:\n\u001b[1;32m----> <a href='vscode-notebook-cell:/c%3A/Users/jelme/OneDrive/Documenten/TIL/Data%20Import%20Export%20-%20Lab.ipynb#X55sZmlsZQ%3D%3D?line=5'>6</a>\u001b[0m     \u001b[39mif\u001b[39;00m \u001b[39m'\u001b[39m\u001b[39m/\u001b[39m\u001b[39m'\u001b[39m \u001b[39min\u001b[39;00m language:\n\u001b[0;32m      <a href='vscode-notebook-cell:/c%3A/Users/jelme/OneDrive/Documenten/TIL/Data%20Import%20Export%20-%20Lab.ipynb#X55sZmlsZQ%3D%3D?line=6'>7</a>\u001b[0m         temp \u001b[39m=\u001b[39m language\u001b[39m.\u001b[39msplit(\u001b[39m'\u001b[39m\u001b[39m/\u001b[39m\u001b[39m'\u001b[39m)\n\u001b[0;32m      <a href='vscode-notebook-cell:/c%3A/Users/jelme/OneDrive/Documenten/TIL/Data%20Import%20Export%20-%20Lab.ipynb#X55sZmlsZQ%3D%3D?line=7'>8</a>\u001b[0m         \u001b[39mfor\u001b[39;00m split \u001b[39min\u001b[39;00m temp:\n",
      "\u001b[1;31mTypeError\u001b[0m: argument of type 'float' is not iterable"
     ]
    }
   ],
   "source": [
    "# YOUR CODE HERE\n",
    "languages = df['Language'].unique()\n",
    "distinct_languages = set()\n",
    "\n",
    "for language in languages:\n",
    "    if '/' in language:\n",
    "        temp = language.split('/')\n",
    "        for split in temp:\n",
    "            distinct_languages.add(split)\n",
    "    \n",
    "    else:\n",
    "        distinct_languages.add(language)\n",
    "        \n",
    "print(distinct_languages)\n",
    "print(len(distinct_languages))"
   ]
  },
  {
   "cell_type": "markdown",
   "metadata": {},
   "source": [
    "### 2.15. Extract all action movies. Save them into a csv file 'action_movies.csv'"
   ]
  },
  {
   "cell_type": "code",
   "execution_count": null,
   "metadata": {},
   "outputs": [],
   "source": [
    "# YOUR CODE HERE\n",
    "filt = df['Genre'].str.contains('Action')\n",
    "action_movies = df[filt]\n",
    "\n",
    "action_movies.to_csv('data/action_movies.csv')"
   ]
  },
  {
   "cell_type": "markdown",
   "metadata": {},
   "source": [
    "### 2.16. For each genre of movies, answer the following question\n",
    "- How many movies are available in the dataset?"
   ]
  },
  {
   "cell_type": "code",
   "execution_count": null,
   "metadata": {},
   "outputs": [
    {
     "data": {
      "text/plain": [
       "115"
      ]
     },
     "execution_count": 515,
     "metadata": {},
     "output_type": "execute_result"
    }
   ],
   "source": [
    "# YOUR CODE HERE\n",
    "# For this code I will count for example Action/Comedy and Action as seperate genres\n",
    "len(df['Genre'].unique())"
   ]
  },
  {
   "cell_type": "markdown",
   "metadata": {},
   "source": [
    "\n",
    "- What are their average score?"
   ]
  },
  {
   "cell_type": "code",
   "execution_count": null,
   "metadata": {},
   "outputs": [
    {
     "data": {
      "text/plain": [
       "{'Action': [3.5, 4.7, 4.9, 5.7, 6.1, 6.3, 6.7],\n",
       " 'Action comedy': [4.2, 5.1, 5.7, 5.9, 6.2],\n",
       " 'Action thriller': [6.4],\n",
       " 'Action-adventure': [7.3],\n",
       " 'Action-thriller': [5.0, 6.4, 7.0],\n",
       " 'Action/Comedy': [5.4],\n",
       " 'Action/Science fiction': [5.4],\n",
       " 'Adventure': [6.1, 6.5],\n",
       " 'Adventure-romance': [6.1],\n",
       " 'Adventure/Comedy': [5.5],\n",
       " 'Aftershow / Interview': [5.2, 6.8, 7.0, 7.1, 7.4],\n",
       " 'Animated musical comedy': [6.7],\n",
       " 'Animation': [5.1, 6.2, 7.1, 7.3],\n",
       " 'Animation / Comedy': [7.0],\n",
       " 'Animation / Musicial': [6.4],\n",
       " 'Animation / Science Fiction': [7.5],\n",
       " 'Animation / Short': [6.5, 6.9, 7.3, 7.8],\n",
       " 'Animation/Christmas/Comedy/Adventure': [8.2],\n",
       " 'Animation/Comedy/Adventure': [6.4],\n",
       " 'Animation/Musical/Adventure': [6.4],\n",
       " 'Animation/Superhero': [4.9],\n",
       " 'Anime / Short': [4.7],\n",
       " 'Anime/Fantasy': [6.7],\n",
       " 'Anime/Science fiction': [6.5, 6.7],\n",
       " 'Anthology/Dark comedy': [7.6],\n",
       " 'Biographical/Comedy': [6.8],\n",
       " 'Biopic': [5.8, 6.0, 6.1, 6.2, 6.9, 7.0, 7.3],\n",
       " 'Black comedy': [5.5, 5.6],\n",
       " 'Christian musical': [5.7],\n",
       " 'Christmas comedy': [6.0],\n",
       " 'Christmas musical': [5.2],\n",
       " 'Christmas/Fantasy/Adventure/Comedy': [7.0],\n",
       " 'Comedy': [3.7,\n",
       "  4.1,\n",
       "  4.3,\n",
       "  4.4,\n",
       "  4.5,\n",
       "  4.6,\n",
       "  4.8,\n",
       "  5.0,\n",
       "  5.2,\n",
       "  5.3,\n",
       "  5.4,\n",
       "  5.5,\n",
       "  5.6,\n",
       "  5.7,\n",
       "  5.8,\n",
       "  6.1,\n",
       "  6.2,\n",
       "  6.3,\n",
       "  6.5,\n",
       "  6.7,\n",
       "  6.8,\n",
       "  7.0,\n",
       "  7.2],\n",
       " 'Comedy / Musical': [5.5, 6.9],\n",
       " 'Comedy horror': [5.7],\n",
       " 'Comedy mystery': [6.0],\n",
       " 'Comedy-drama': [5.2, 5.6, 5.8, 5.9, 6.2, 6.3, 6.4, 6.7, 6.9, 7.3],\n",
       " 'Comedy/Fantasy/Family': [5.4],\n",
       " 'Comedy/Horror': [5.8],\n",
       " 'Coming-of-age comedy-drama': [7.2],\n",
       " 'Concert Film': [6.4, 7.4, 7.5, 7.7, 8.4],\n",
       " 'Crime drama': [5.5, 6.1, 6.3, 6.6, 6.9, 7.1, 7.2, 7.3, 7.8],\n",
       " 'Crime thriller': [6.3],\n",
       " 'Dance comedy': [6.1],\n",
       " 'Dark comedy': [5.7, 5.8],\n",
       " 'Documentary': [2.5,\n",
       "  4.1,\n",
       "  4.3,\n",
       "  4.4,\n",
       "  4.6,\n",
       "  5.2,\n",
       "  5.5,\n",
       "  5.6,\n",
       "  5.7,\n",
       "  5.9,\n",
       "  6.1,\n",
       "  6.2,\n",
       "  6.3,\n",
       "  6.4,\n",
       "  6.5,\n",
       "  6.6,\n",
       "  6.7,\n",
       "  6.8,\n",
       "  6.9,\n",
       "  7.0,\n",
       "  7.1,\n",
       "  7.2,\n",
       "  7.3,\n",
       "  7.4,\n",
       "  7.5,\n",
       "  7.6,\n",
       "  7.7,\n",
       "  7.9,\n",
       "  8.0,\n",
       "  8.1,\n",
       "  8.2,\n",
       "  8.3,\n",
       "  8.4,\n",
       "  8.6,\n",
       "  9.0],\n",
       " 'Drama': [4.1,\n",
       "  4.7,\n",
       "  4.9,\n",
       "  5.0,\n",
       "  5.2,\n",
       "  5.3,\n",
       "  5.4,\n",
       "  5.7,\n",
       "  5.8,\n",
       "  5.9,\n",
       "  6.0,\n",
       "  6.1,\n",
       "  6.2,\n",
       "  6.3,\n",
       "  6.4,\n",
       "  6.5,\n",
       "  6.6,\n",
       "  6.7,\n",
       "  6.8,\n",
       "  6.9,\n",
       "  7.0,\n",
       "  7.1,\n",
       "  7.2,\n",
       "  7.3,\n",
       "  7.6,\n",
       "  7.7,\n",
       "  7.8,\n",
       "  7.9],\n",
       " 'Drama / Short': [6.5],\n",
       " 'Drama-Comedy': [7.2],\n",
       " 'Drama/Horror': [6.3],\n",
       " 'Family': [5.7, 6.1],\n",
       " 'Family film': [4.9, 6.3],\n",
       " 'Family/Christmas musical': [6.5],\n",
       " 'Family/Comedy-drama': [6.3],\n",
       " 'Fantasy': [5.8],\n",
       " 'Heist': [4.8],\n",
       " 'Heist film/Thriller': [3.7],\n",
       " 'Hidden-camera prank comedy': [6.6],\n",
       " 'Historical drama': [7.2],\n",
       " 'Historical-epic': [6.9],\n",
       " 'Horror': [4.6, 4.8, 5.1, 5.2, 5.3, 5.4, 5.7, 6.6],\n",
       " 'Horror anthology': [4.3],\n",
       " 'Horror comedy': [5.6],\n",
       " 'Horror thriller': [3.2, 4.4, 6.5],\n",
       " 'Horror-thriller': [6.1, 6.3],\n",
       " 'Horror/Crime drama': [6.3],\n",
       " 'Making-of': [7.2, 7.7],\n",
       " 'Mentalism special': [7.1],\n",
       " 'Mockumentary': [5.8, 5.9],\n",
       " 'Musical': [5.5, 5.9],\n",
       " 'Musical / Short': [7.7],\n",
       " 'Musical comedy': [6.4, 6.5],\n",
       " 'Musical/Western/Fantasy': [3.9],\n",
       " 'Mystery': [3.4, 5.9],\n",
       " 'One-man show': [5.8, 7.1, 8.5],\n",
       " 'Political thriller': [4.3],\n",
       " 'Psychological horror': [5.9],\n",
       " 'Psychological thriller': [5.7, 6.6, 7.1],\n",
       " 'Psychological thriller drama': [5.5],\n",
       " 'Romance': [5.6, 6.5, 6.6, 6.9],\n",
       " 'Romance drama': [4.6],\n",
       " 'Romantic comedy': [4.1,\n",
       "  4.5,\n",
       "  5.0,\n",
       "  5.2,\n",
       "  5.3,\n",
       "  5.4,\n",
       "  5.5,\n",
       "  5.6,\n",
       "  5.7,\n",
       "  5.8,\n",
       "  5.9,\n",
       "  6.0,\n",
       "  6.1,\n",
       "  6.2,\n",
       "  6.3,\n",
       "  6.4,\n",
       "  6.5,\n",
       "  6.6,\n",
       "  6.8,\n",
       "  7.1,\n",
       "  7.2],\n",
       " 'Romantic comedy-drama': [5.8],\n",
       " 'Romantic comedy/Holiday': [6.1],\n",
       " 'Romantic drama': [5.1, 5.6, 5.7, 6.4, 6.7],\n",
       " 'Romantic teen drama': [5.7],\n",
       " 'Romantic teenage drama': [5.4],\n",
       " 'Romantic thriller': [6.0],\n",
       " 'Satire': [5.8],\n",
       " 'Science fiction': [5.2, 5.5, 5.6, 6.6],\n",
       " 'Science fiction adventure': [5.2],\n",
       " 'Science fiction thriller': [6.5],\n",
       " 'Science fiction/Action': [6.3],\n",
       " 'Science fiction/Drama': [2.6, 4.7, 6.3],\n",
       " 'Science fiction/Mystery': [5.5],\n",
       " 'Science fiction/Thriller': [5.8, 6.0, 6.4],\n",
       " 'Sports film': [5.9],\n",
       " 'Sports-drama': [5.9, 6.2, 6.4],\n",
       " 'Spy thriller': [6.6],\n",
       " 'Stop Motion': [6.2],\n",
       " 'Superhero': [4.7, 6.0],\n",
       " 'Superhero-Comedy': [4.4],\n",
       " 'Superhero/Action': [6.7],\n",
       " 'Supernatural drama': [5.4],\n",
       " 'Teen comedy horror': [6.3],\n",
       " 'Teen comedy-drama': [5.1],\n",
       " 'Thriller': [2.6,\n",
       "  4.2,\n",
       "  4.4,\n",
       "  4.5,\n",
       "  4.8,\n",
       "  5.0,\n",
       "  5.1,\n",
       "  5.3,\n",
       "  5.4,\n",
       "  5.5,\n",
       "  5.6,\n",
       "  5.7,\n",
       "  5.8,\n",
       "  5.9,\n",
       "  6.1,\n",
       "  6.2,\n",
       "  6.3,\n",
       "  6.4,\n",
       "  6.5,\n",
       "  6.8,\n",
       "  6.9,\n",
       "  7.3],\n",
       " 'Urban fantasy': [6.3],\n",
       " 'Variety Show': [6.7],\n",
       " 'Variety show': [5.2, 5.5, 5.6, 7.5],\n",
       " 'War': [6.3, 7.2],\n",
       " 'War drama': [6.5, 7.7],\n",
       " 'War-Comedy': [6.0],\n",
       " 'Western': [4.8, 6.1, 7.3],\n",
       " 'Zombie/Heist': [5.9]}"
      ]
     },
     "execution_count": 516,
     "metadata": {},
     "output_type": "execute_result"
    }
   ],
   "source": [
    "# YOUR CODE HERE\n",
    "import numpy as np\n",
    "\n",
    "def scores_per_genre():\n",
    "    Genre_Score_list = df.groupby(['Genre', 'IMDB Score'])\n",
    "    genre_scores = Genre_Score_list.groups.keys()\n",
    "\n",
    "    dict_genre_scores = dict()\n",
    "    Genre_Score_list.size()\n",
    "\n",
    "\n",
    "    for genre, score in genre_scores:\n",
    "        if genre in dict_genre_scores.keys():\n",
    "            dict_genre_scores[genre].append(float(score))\n",
    "        else:\n",
    "            dict_genre_scores[genre] = [float(score)]\n",
    "    \n",
    "    return dict_genre_scores\n",
    "\n",
    "def get_mean():\n",
    "    for genre, scores in scores_per_genre().items():\n",
    "        print(\"{}: mean = {}\".format(genre, np.mean(scores)))\n",
    "\n",
    "#Wasn't able to group for example Action thriller and Action-thriller... Probably something using regex\n",
    "\n",
    "scores_per_genre()\n",
    "#get_mean()\n"
   ]
  },
  {
   "cell_type": "markdown",
   "metadata": {},
   "source": [
    "### 2.17. On average, what type of movies scores the highest?"
   ]
  },
  {
   "cell_type": "code",
   "execution_count": null,
   "metadata": {},
   "outputs": [
    {
     "name": "stdout",
     "output_type": "stream",
     "text": [
      "(8.2, 'Animation/Christmas/Comedy/Adventure')\n"
     ]
    }
   ],
   "source": [
    "# YOUR CODE HERE\n",
    "def highest_mean():\n",
    "    dict = scores_per_genre()\n",
    "\n",
    "    mean_list = [(np.mean(scores), genre) for genre, scores in dict.items()]\n",
    "    print(max(mean_list))\n",
    "    #return max(mean_dict, key=mean_dict.keys)   \n",
    "\n",
    "            \n",
    "\n",
    "highest_mean()"
   ]
  }
 ],
 "metadata": {
  "kernelspec": {
   "display_name": "Python 3 (ipykernel)",
   "language": "python",
   "name": "python3"
  },
  "language_info": {
   "codemirror_mode": {
    "name": "ipython",
    "version": 3
   },
   "file_extension": ".py",
   "mimetype": "text/x-python",
   "name": "python",
   "nbconvert_exporter": "python",
   "pygments_lexer": "ipython3",
   "version": "3.11.4"
  }
 },
 "nbformat": 4,
 "nbformat_minor": 2
}
