{
 "cells": [
  {
   "cell_type": "markdown",
   "id": "8cc11e25",
   "metadata": {},
   "source": [
    "<h1>Integers</h1>"
   ]
  },
  {
   "cell_type": "code",
   "execution_count": 1,
   "id": "6e1cef5c",
   "metadata": {},
   "outputs": [
    {
     "name": "stdout",
     "output_type": "stream",
     "text": [
      "3\n",
      "0.5\n",
      "2.0\n"
     ]
    }
   ],
   "source": [
    "a = 1\n",
    "b = 2\n",
    "print(a + b)\n",
    "print(a / b) # automatically assigned to float\n",
    "print(b / a) # automatically assigned to float, although value is 2"
   ]
  },
  {
   "cell_type": "code",
   "execution_count": 2,
   "id": "83e77a6c",
   "metadata": {},
   "outputs": [
    {
     "name": "stdout",
     "output_type": "stream",
     "text": [
      "34\n",
      "0\n",
      "<class 'int'>\n"
     ]
    }
   ],
   "source": [
    "print(int('34'))\n",
    "print(int())     # default value of 0\n",
    "print(int)       # int without () refers to the int data type"
   ]
  },
  {
   "cell_type": "code",
   "execution_count": 3,
   "id": "03b032e3",
   "metadata": {},
   "outputs": [
    {
     "name": "stdout",
     "output_type": "stream",
     "text": [
      "9000000000\n"
     ]
    }
   ],
   "source": [
    "print(9000000000) # larger than 2^32 / 2"
   ]
  },
  {
   "cell_type": "markdown",
   "id": "68c56f08",
   "metadata": {},
   "source": [
    "Why is the value 2^32 / 2 important?"
   ]
  },
  {
   "cell_type": "markdown",
   "id": "8b364fec",
   "metadata": {},
   "source": [
    "<b>Quiz!</b>"
   ]
  },
  {
   "cell_type": "code",
   "execution_count": 4,
   "id": "471fe2b2",
   "metadata": {},
   "outputs": [
    {
     "name": "stdout",
     "output_type": "stream",
     "text": [
      "0\n",
      "0\n",
      "0\n"
     ]
    }
   ],
   "source": [
    "print(int(0.3))\n",
    "print(int(0.7))\n",
    "print(int(-0.7))"
   ]
  },
  {
   "cell_type": "markdown",
   "id": "0b2b3cc3",
   "metadata": {},
   "source": [
    "<h1>Floats</h1>"
   ]
  },
  {
   "cell_type": "code",
   "execution_count": 5,
   "id": "4d01b069",
   "metadata": {},
   "outputs": [
    {
     "name": "stdout",
     "output_type": "stream",
     "text": [
      "4.2\n",
      "0.39999999999999997\n",
      "2.5\n"
     ]
    }
   ],
   "source": [
    "a = 1.2\n",
    "b = 3.0\n",
    "print(a + b)\n",
    "print(a / b)\n",
    "print(b / a)"
   ]
  },
  {
   "cell_type": "markdown",
   "id": "8802dff2",
   "metadata": {},
   "source": [
    "Although they are called <b>float</b>, they have <b>double</b> (8 bytes) precision.<br>\n",
    "<br>\n",
    "For more info, search <i>floating point numbers</i>."
   ]
  },
  {
   "cell_type": "markdown",
   "id": "534dcd60",
   "metadata": {},
   "source": [
    "<h1>Strings</h1>"
   ]
  },
  {
   "cell_type": "code",
   "execution_count": 6,
   "id": "91b5fe4d",
   "metadata": {},
   "outputs": [
    {
     "name": "stdout",
     "output_type": "stream",
     "text": [
      "1\n",
      "1.0\n",
      "Single quotes\n",
      "Double quotes\n",
      "Triple quotes\n",
      "\"Crazy quotes\"\n",
      "'''More crazy quotes'''\n",
      "Quote's problem\n"
     ]
    }
   ],
   "source": [
    "print(str(1))\n",
    "print(str(1.0))\n",
    "print('Single quotes')\n",
    "print(\"Double quotes\")\n",
    "print('''Triple quotes''')\n",
    "print('\"Crazy quotes\"')\n",
    "print(\"'''More crazy quotes'''\")\n",
    "print('Quote\\'s problem') # backslash is escape character"
   ]
  },
  {
   "cell_type": "markdown",
   "id": "8489b872",
   "metadata": {},
   "source": [
    "<b>Quiz!</b>"
   ]
  },
  {
   "cell_type": "code",
   "execution_count": 7,
   "id": "f02a63db",
   "metadata": {},
   "outputs": [
    {
     "name": "stdout",
     "output_type": "stream",
     "text": [
      "43\n"
     ]
    }
   ],
   "source": [
    "print('4' + '3')"
   ]
  },
  {
   "cell_type": "code",
   "execution_count": 8,
   "id": "1b24e222",
   "metadata": {},
   "outputs": [
    {
     "name": "stdout",
     "output_type": "stream",
     "text": [
      "Why don't we concatenatethese two strings?\n"
     ]
    }
   ],
   "source": [
    "a = 'Why don\\'t we concatenate'\n",
    "b = 'these two strings?'\n",
    "print(a + b)"
   ]
  },
  {
   "cell_type": "markdown",
   "id": "136a6fa5",
   "metadata": {},
   "source": [
    "Yeah, why don't we?"
   ]
  },
  {
   "cell_type": "code",
   "execution_count": 9,
   "id": "5e33134b",
   "metadata": {},
   "outputs": [
    {
     "name": "stdout",
     "output_type": "stream",
     "text": [
      "I really like: {'Potatoes', 'Pizza', 'Spaghetti'}\n"
     ]
    }
   ],
   "source": [
    "foods = {'Pizza', 'Spaghetti', 'Potatoes'}\n",
    "print('I really like: ' + str(foods))"
   ]
  },
  {
   "cell_type": "markdown",
   "id": "fa9411c4",
   "metadata": {},
   "source": [
    "Well that doesn't look good. Here's a thorough method."
   ]
  },
  {
   "cell_type": "code",
   "execution_count": 10,
   "id": "a5ac7630",
   "metadata": {},
   "outputs": [
    {
     "name": "stdout",
     "output_type": "stream",
     "text": [
      "I really like: Potatoes, Pizza & Spaghetti\n"
     ]
    }
   ],
   "source": [
    "my_str = 'I really like: '                 # start string\n",
    "separator = ''                             # start with empty separator between start string and first food\n",
    "for food in foods:                         # loop foods\n",
    "    my_str = my_str + separator + food     # add food to string, with current separator\n",
    "    separator = ', '                       # make sure next additions are with , as separator\n",
    "my_str = ' &'.join(my_str.rsplit(',', 1))  # tricky way to replace the last , with &\n",
    "print(my_str)"
   ]
  },
  {
   "cell_type": "markdown",
   "id": "af35d8dd",
   "metadata": {},
   "source": [
    "<h1>Booleans</h1>"
   ]
  },
  {
   "cell_type": "code",
   "execution_count": 11,
   "id": "d73fdb6b",
   "metadata": {},
   "outputs": [
    {
     "name": "stdout",
     "output_type": "stream",
     "text": [
      "False\n",
      "True\n",
      "True\n"
     ]
    }
   ],
   "source": [
    "a = True\n",
    "b = False\n",
    "print(bool(0))       # data types have certain values considered to represent False\n",
    "print(bool(1))       # other values represent True\n",
    "print(bool(88))"
   ]
  },
  {
   "cell_type": "markdown",
   "id": "c498c669",
   "metadata": {},
   "source": [
    "<b>Quiz!</b>"
   ]
  },
  {
   "cell_type": "code",
   "execution_count": 12,
   "id": "3ca4bcd7",
   "metadata": {},
   "outputs": [
    {
     "name": "stdout",
     "output_type": "stream",
     "text": [
      "False\n",
      "True\n"
     ]
    }
   ],
   "source": [
    "print(bool(-0.0))\n",
    "print(bool('false'))"
   ]
  },
  {
   "cell_type": "code",
   "execution_count": 13,
   "id": "432d3b31",
   "metadata": {},
   "outputs": [
    {
     "name": "stdout",
     "output_type": "stream",
     "text": [
      "False\n",
      "True\n",
      "True\n",
      "False\n"
     ]
    }
   ],
   "source": [
    "print(1 > 2)\n",
    "print(1.0 >= 1)\n",
    "print(3 != 4)\n",
    "print('abc' == 'def')"
   ]
  },
  {
   "cell_type": "markdown",
   "id": "b89bfb68",
   "metadata": {},
   "source": [
    "<b>Quiz!</b>"
   ]
  },
  {
   "cell_type": "code",
   "execution_count": 14,
   "id": "80fda9c6",
   "metadata": {},
   "outputs": [
    {
     "name": "stdout",
     "output_type": "stream",
     "text": [
      "yes\n"
     ]
    }
   ],
   "source": [
    "if True is not (False == True): # Keep logical statements simple!\n",
    "    print('yes')\n",
    "else:\n",
    "    print('no')"
   ]
  }
 ],
 "metadata": {
  "kernelspec": {
   "display_name": "Python 3 (ipykernel)",
   "language": "python",
   "name": "python3"
  },
  "language_info": {
   "codemirror_mode": {
    "name": "ipython",
    "version": 3
   },
   "file_extension": ".py",
   "mimetype": "text/x-python",
   "name": "python",
   "nbconvert_exporter": "python",
   "pygments_lexer": "ipython3",
   "version": "3.11.4"
  }
 },
 "nbformat": 4,
 "nbformat_minor": 5
}
