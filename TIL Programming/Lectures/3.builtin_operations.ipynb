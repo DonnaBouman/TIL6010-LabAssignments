{
 "cells": [
  {
   "cell_type": "markdown",
   "id": "6288a952",
   "metadata": {},
   "source": [
    "<h1>Functions</h1>"
   ]
  },
  {
   "cell_type": "markdown",
   "id": "07595db1",
   "metadata": {},
   "source": [
    "Functions `all()` and `any()` take a `List` argument."
   ]
  },
  {
   "cell_type": "code",
   "execution_count": 1,
   "id": "c1d19e9c",
   "metadata": {},
   "outputs": [
    {
     "name": "stdout",
     "output_type": "stream",
     "text": [
      "False\n"
     ]
    }
   ],
   "source": [
    "a = 0\n",
    "b = 2\n",
    "c = 4\n",
    "myList = [a==b, c-b==b-a, a]\n",
    "print(all(myList))"
   ]
  },
  {
   "cell_type": "code",
   "execution_count": 2,
   "id": "14a468db",
   "metadata": {},
   "outputs": [
    {
     "name": "stdout",
     "output_type": "stream",
     "text": [
      "True\n"
     ]
    }
   ],
   "source": [
    "print(any(myList))"
   ]
  },
  {
   "cell_type": "markdown",
   "id": "3488037c",
   "metadata": {},
   "source": [
    "Which is/are False?"
   ]
  },
  {
   "cell_type": "markdown",
   "id": "de0e06f8",
   "metadata": {},
   "source": [
    "(back to powerpoint)"
   ]
  },
  {
   "cell_type": "markdown",
   "id": "b81416b2",
   "metadata": {},
   "source": [
    "<h1>Keywords</h1>"
   ]
  },
  {
   "cell_type": "code",
   "execution_count": 3,
   "id": "b0a53cac",
   "metadata": {},
   "outputs": [],
   "source": [
    "class LazyClass:\n",
    "    def do_nothing():\n",
    "        pass\n",
    "\n",
    "myLazyClass = LazyClass\n",
    "myLazyClass.do_nothing()"
   ]
  },
  {
   "cell_type": "code",
   "execution_count": 4,
   "id": "832d1d2a",
   "metadata": {},
   "outputs": [
    {
     "name": "stdout",
     "output_type": "stream",
     "text": [
      "True\n",
      "False\n",
      "True\n"
     ]
    }
   ],
   "source": [
    "a = range(0, 10)\n",
    "print(8 in a)\n",
    "print(12 in a)\n",
    "print(12 not in a)"
   ]
  },
  {
   "cell_type": "markdown",
   "id": "021df8e0",
   "metadata": {},
   "source": [
    "(back to powerpoint)"
   ]
  },
  {
   "cell_type": "markdown",
   "id": "7db56d20",
   "metadata": {},
   "source": [
    "<h1>Operators</h1>"
   ]
  },
  {
   "cell_type": "code",
   "execution_count": 5,
   "id": "fdbbb4d2",
   "metadata": {},
   "outputs": [
    {
     "name": "stdout",
     "output_type": "stream",
     "text": [
      "6\n",
      "1\n"
     ]
    }
   ],
   "source": [
    "a = 2\n",
    "a += 4     # same as a = a + 4\n",
    "print(a)\n",
    "\n",
    "a -= 5\n",
    "print(a)   # same as a = a - 5"
   ]
  },
  {
   "cell_type": "markdown",
   "id": "616dd417",
   "metadata": {},
   "source": [
    "<b>Quiz!</b>"
   ]
  },
  {
   "cell_type": "code",
   "execution_count": 6,
   "id": "0c6fbf18",
   "metadata": {},
   "outputs": [
    {
     "name": "stdout",
     "output_type": "stream",
     "text": [
      "8\n"
     ]
    }
   ],
   "source": [
    "b = 2\n",
    "b **= 3\n",
    "print(b)"
   ]
  },
  {
   "cell_type": "code",
   "execution_count": 7,
   "id": "6267746a",
   "metadata": {},
   "outputs": [
    {
     "name": "stdout",
     "output_type": "stream",
     "text": [
      "5\n"
     ]
    }
   ],
   "source": [
    "c = 3\n",
    "c =+ 5\n",
    "print(c)"
   ]
  },
  {
   "cell_type": "markdown",
   "id": "38b61fdb",
   "metadata": {},
   "source": [
    "Pay close attention to the syntax!"
   ]
  },
  {
   "cell_type": "markdown",
   "id": "3256b0dd",
   "metadata": {},
   "source": [
    "<b>Keywords vs. operators</b><br>\n",
    "`==` compares by value<br>\n",
    "`is` compares by memory location"
   ]
  },
  {
   "cell_type": "code",
   "execution_count": 8,
   "id": "77484978",
   "metadata": {},
   "outputs": [
    {
     "name": "stdout",
     "output_type": "stream",
     "text": [
      "True\n",
      "True\n"
     ]
    }
   ],
   "source": [
    "a = 1\n",
    "b = 1\n",
    "print(a == b)\n",
    "print(a is b)"
   ]
  },
  {
   "cell_type": "markdown",
   "id": "fb595864",
   "metadata": {},
   "source": [
    "<b>Quiz!</b>"
   ]
  },
  {
   "cell_type": "code",
   "execution_count": 9,
   "id": "7c88a6c2",
   "metadata": {},
   "outputs": [
    {
     "name": "stdout",
     "output_type": "stream",
     "text": [
      "False\n",
      "False\n"
     ]
    }
   ],
   "source": [
    "class Number:\n",
    "    def __init__(self, number):\n",
    "        self.number = number\n",
    "\n",
    "a = Number(7);\n",
    "b = Number(7);\n",
    "\n",
    "print(a == b) # by value\n",
    "print(a is b) # by memory location"
   ]
  },
  {
   "cell_type": "code",
   "execution_count": 10,
   "id": "fb440e10",
   "metadata": {},
   "outputs": [
    {
     "name": "stdout",
     "output_type": "stream",
     "text": [
      "2\n",
      "2\n"
     ]
    }
   ],
   "source": [
    "print(len({a, b}))                 # set\n",
    "print(len({a:'Iron', b:'Copper'})) # dictionary"
   ]
  },
  {
   "cell_type": "markdown",
   "id": "7e51623a",
   "metadata": {},
   "source": [
    "We need to <b>define</b> what constitutes <b>equality</b> between two objects of type `(Comparable)Number`."
   ]
  },
  {
   "cell_type": "code",
   "execution_count": 11,
   "id": "42432acb",
   "metadata": {},
   "outputs": [
    {
     "name": "stdout",
     "output_type": "stream",
     "text": [
      "True\n",
      "False\n"
     ]
    }
   ],
   "source": [
    "class ComparableNumber(Number):\n",
    "    def __eq__(self, other):\n",
    "        if isinstance(other, Number):\n",
    "            return self.number == other.number\n",
    "        return False\n",
    "    \n",
    "    def __hash__(self):\n",
    "        return hash(self.number)\n",
    "\n",
    "a = ComparableNumber(7);\n",
    "b = ComparableNumber(7);\n",
    "\n",
    "print(a == b) # by value\n",
    "print(a is b) # by memory location"
   ]
  },
  {
   "cell_type": "code",
   "execution_count": 12,
   "id": "88ad00a7",
   "metadata": {},
   "outputs": [
    {
     "name": "stdout",
     "output_type": "stream",
     "text": [
      "1\n",
      "1\n"
     ]
    }
   ],
   "source": [
    "print(len({a, b}))                 # set\n",
    "print(len({a:'Iron', b:'Copper'})) # dictionary"
   ]
  }
 ],
 "metadata": {
  "kernelspec": {
   "display_name": "Python 3 (ipykernel)",
   "language": "python",
   "name": "python3"
  },
  "language_info": {
   "codemirror_mode": {
    "name": "ipython",
    "version": 3
   },
   "file_extension": ".py",
   "mimetype": "text/x-python",
   "name": "python",
   "nbconvert_exporter": "python",
   "pygments_lexer": "ipython3",
   "version": "3.11.4"
  }
 },
 "nbformat": 4,
 "nbformat_minor": 5
}
