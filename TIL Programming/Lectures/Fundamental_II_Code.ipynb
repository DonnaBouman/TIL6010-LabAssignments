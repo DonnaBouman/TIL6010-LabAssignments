{
 "cells": [
  {
   "cell_type": "markdown",
   "metadata": {},
   "source": [
    "# Python Fundamental II "
   ]
  },
  {
   "cell_type": "markdown",
   "metadata": {},
   "source": [
    "## Control Flow in Python "
   ]
  },
  {
   "cell_type": "markdown",
   "metadata": {},
   "source": [
    "## If-elif-else\n",
    "\n",
    "```\n",
    "if condition:\n",
    "    instructions\n",
    "[elif another condition:\n",
    "    instructions]\n",
    "else:\n",
    "    instructions\n",
    "```\n"
   ]
  },
  {
   "cell_type": "code",
   "execution_count": null,
   "metadata": {},
   "outputs": [
    {
     "name": "stdout",
     "output_type": "stream",
     "text": [
      "The value of f is: -1 \n"
     ]
    }
   ],
   "source": [
    "# intialize a variable x\n",
    "if x <= -1:\n",
    "    f = -1\n",
    "elif x >= -1 and x >= 1:\n",
    "    f = x\n",
    "else:\n",
    "    f = 1\n",
    "\n"
   ]
  },
  {
   "cell_type": "markdown",
   "metadata": {},
   "source": [
    "### Chaining comparison operators "
   ]
  },
  {
   "cell_type": "code",
   "execution_count": null,
   "metadata": {},
   "outputs": [
    {
     "name": "stdout",
     "output_type": "stream",
     "text": [
      "The value of f is: 0.5 \n"
     ]
    }
   ],
   "source": [
    "# intialize a variable x\n",
    "if x < -1:\n",
    "    f = -1\n",
    "elif x > 1:\n",
    "    f = x\n",
    "else:\n",
    "    f = 0.5\n",
    "\n"
   ]
  },
  {
   "cell_type": "markdown",
   "metadata": {},
   "source": [
    "We can make the code faster! but how?  \n",
    "\n",
    "Hint: The order of condtional statements do not matters! "
   ]
  },
  {
   "cell_type": "code",
   "execution_count": null,
   "metadata": {},
   "outputs": [
    {
     "name": "stdout",
     "output_type": "stream",
     "text": [
      "The value of f is: 0.5 \n"
     ]
    }
   ],
   "source": [
    "# intialize a variable x\n",
    "\n",
    "\n"
   ]
  },
  {
   "cell_type": "markdown",
   "metadata": {},
   "source": [
    "### Odd-Even numbers"
   ]
  },
  {
   "cell_type": "code",
   "execution_count": null,
   "metadata": {},
   "outputs": [
    {
     "name": "stdout",
     "output_type": "stream",
     "text": [
      " You have entered in the number 7. This is an odd number.\n"
     ]
    }
   ],
   "source": [
    "# Code here \n",
    "# get input from users\n",
    "\n",
    "n = input('Type in an integer number: ')\n",
    "\n",
    "# get the residual when divided by 2\n",
    "\n",
    "r = n % 2\n",
    "\n",
    "# if r = 0 then the number is even\n",
    "\n",
    "if r == 0:\n",
    "    print(\" You have typed in a number {n}, this number is even\")\n",
    "else: # otherwise\n",
    "    print(\" You have typed in a number {n}, this number is odd\")"
   ]
  },
  {
   "cell_type": "markdown",
   "metadata": {},
   "source": [
    "#### Ternary operator"
   ]
  },
  {
   "cell_type": "code",
   "execution_count": null,
   "metadata": {},
   "outputs": [
    {
     "name": "stdout",
     "output_type": "stream",
     "text": [
      "Red Code: Stay at home! \n"
     ]
    }
   ],
   "source": [
    "temprature = 39\n",
    "\n",
    "# if temprature > 38: \n",
    "#     print('Red Code: Stay at home!')\n",
    "# else: \n",
    "#     pass\n",
    "\n"
   ]
  },
  {
   "cell_type": "markdown",
   "metadata": {},
   "source": [
    "### Quiz\n",
    "go to presentation"
   ]
  },
  {
   "cell_type": "markdown",
   "metadata": {},
   "source": [
    "## Match statements"
   ]
  },
  {
   "cell_type": "code",
   "execution_count": 32,
   "metadata": {},
   "outputs": [
    {
     "name": "stdout",
     "output_type": "stream",
     "text": [
      "You are not authorized\n"
     ]
    }
   ],
   "source": [
    "# Code here \n",
    "database = { \"UserName\": ['Martijn', 'Julia', 'Thijs', 'Emma'],\n",
    "             \"Password\": [1234,5678,1590,3570]}\n",
    "\n",
    "username = str(input(\"write your username -: \"))\n",
    "Password = int(input(\"write your password -: \"))\n",
    "\n",
    "match username:\n",
    "    case 'Martijn':\n",
    "        message = \"You are authorized\" if database['Password'][0] == Password else 'You are not authorized'\n",
    "    case 'Julia':\n",
    "        message = \"You are authorized\" if database['Password'][1] == Password else 'You are not authorized' \n",
    "    case 'Thijs':\n",
    "        message = \"You are authorized\" if database['Password'][2] == Password else 'You are not authorized'\n",
    "    case 'Emma':\n",
    "        message = \"You are authorized\" if database['Password'][3] == Password else 'You are not authorized'\n",
    "\n",
    "print(message)\n"
   ]
  },
  {
   "cell_type": "markdown",
   "metadata": {},
   "source": [
    "# Loop"
   ]
  },
  {
   "cell_type": "markdown",
   "metadata": {},
   "source": [
    "## While loop\n",
    "\n",
    "```\n",
    "while condition:\n",
    "   instructions\n",
    "```"
   ]
  },
  {
   "cell_type": "markdown",
   "metadata": {},
   "source": [
    "The following example repeatedly increases a counter by 1, and prints the counter as long as it is smaller than 5."
   ]
  },
  {
   "cell_type": "code",
   "execution_count": 91,
   "metadata": {},
   "outputs": [
    {
     "name": "stdout",
     "output_type": "stream",
     "text": [
      "0\n",
      "1\n",
      "2\n",
      "3\n",
      "4\n"
     ]
    }
   ],
   "source": [
    "# Code here \n",
    "\n",
    "counter = 0\n",
    "\n",
    "while counter < 5:\n",
    "    print(counter)\n",
    "    counter += 1\n",
    "\n"
   ]
  },
  {
   "cell_type": "markdown",
   "metadata": {},
   "source": [
    "\n",
    "\n",
    "\n",
    "#\n",
    "# For Loop"
   ]
  },
  {
   "cell_type": "markdown",
   "metadata": {},
   "source": [
    "## List"
   ]
  },
  {
   "cell_type": "code",
   "execution_count": 121,
   "metadata": {},
   "outputs": [
    {
     "name": "stdout",
     "output_type": "stream",
     "text": [
      "even\n",
      "even\n",
      "odd\n"
     ]
    }
   ],
   "source": [
    "# Code here \n",
    "a= [ 4,2,3]\n",
    "\n",
    "for i in a:\n",
    "    if i % 2 == 1:\n",
    "        print('odd')\n",
    "    elif i % 2 == 0:\n",
    "        print ('even')\n"
   ]
  },
  {
   "cell_type": "markdown",
   "metadata": {},
   "source": [
    "Now, check each element of the list to see whether it is an even or odd number"
   ]
  },
  {
   "cell_type": "code",
   "execution_count": 122,
   "metadata": {},
   "outputs": [],
   "source": [
    "# Code here \n",
    "a = [ 1,2,3,4,5,6,7,8,9,10]\n"
   ]
  },
  {
   "cell_type": "markdown",
   "metadata": {},
   "source": [
    "## Tuple"
   ]
  },
  {
   "cell_type": "code",
   "execution_count": 123,
   "metadata": {},
   "outputs": [],
   "source": [
    "a = ('apple', 10)\n",
    "# Code here \n",
    "\n"
   ]
  },
  {
   "cell_type": "markdown",
   "metadata": {},
   "source": [
    "## Set"
   ]
  },
  {
   "cell_type": "code",
   "execution_count": 124,
   "metadata": {},
   "outputs": [],
   "source": [
    "a = set(['orange','apple'])\n",
    "\n",
    "# Code here \n",
    "\n",
    "    "
   ]
  },
  {
   "cell_type": "markdown",
   "metadata": {},
   "source": [
    "## String"
   ]
  },
  {
   "cell_type": "code",
   "execution_count": 125,
   "metadata": {},
   "outputs": [],
   "source": [
    "a = \" Welcome to TIL6022\"\n",
    "# Code here \n"
   ]
  },
  {
   "cell_type": "markdown",
   "metadata": {},
   "source": [
    "*Exercise:* Instead of characters, list words in strings\n",
    "use str.split() function to seprate words from a string. "
   ]
  },
  {
   "cell_type": "code",
   "execution_count": 126,
   "metadata": {},
   "outputs": [],
   "source": [
    "string = 'Welcome to TIL6010!'\n",
    "# Code here \n",
    "\n"
   ]
  },
  {
   "cell_type": "markdown",
   "metadata": {},
   "source": [
    "## Range"
   ]
  },
  {
   "cell_type": "code",
   "execution_count": 127,
   "metadata": {},
   "outputs": [],
   "source": [
    "# Code here \n"
   ]
  },
  {
   "cell_type": "markdown",
   "metadata": {},
   "source": [
    "### Dictionary"
   ]
  },
  {
   "cell_type": "code",
   "execution_count": 128,
   "metadata": {},
   "outputs": [],
   "source": [
    "# Code here \n",
    "personal_info = {\n",
    "    'name': 'Jone',\n",
    "    'age': 25,\n",
    "    'height': 175,\n",
    "    'weight': 60\n",
    "}\n"
   ]
  },
  {
   "cell_type": "code",
   "execution_count": 129,
   "metadata": {},
   "outputs": [],
   "source": [
    "# Code here \n",
    "personal_info = {\n",
    "    'name': 'Jone',\n",
    "    'age': 25,\n",
    "    'height': 175,\n",
    "    'weight': 60\n",
    "}\n"
   ]
  },
  {
   "cell_type": "code",
   "execution_count": 130,
   "metadata": {},
   "outputs": [
    {
     "name": "stdout",
     "output_type": "stream",
     "text": [
      "name: Jone\n",
      "age: 25\n",
      "height: 175\n",
      "weight: 60\n"
     ]
    }
   ],
   "source": [
    "# Code here \n",
    "for key,val in personal_info.items():\n",
    "    print(key, end =\": \")\n",
    "    print(val)"
   ]
  },
  {
   "cell_type": "markdown",
   "metadata": {},
   "source": [
    "#  Advance looping\n"
   ]
  },
  {
   "cell_type": "markdown",
   "metadata": {},
   "source": [
    "#### Nested For \n",
    "\n",
    "This code generates a matrix of ones with n x m dimention. "
   ]
  },
  {
   "cell_type": "code",
   "execution_count": 131,
   "metadata": {},
   "outputs": [
    {
     "name": "stdout",
     "output_type": "stream",
     "text": [
      "1 1 1 1 1 1 1 1 1 1  \n",
      "1 1 1 1 1 1 1 1 1 1  \n",
      "1 1 1 1 1 1 1 1 1 1  \n",
      "1 1 1 1 1 1 1 1 1 1  \n",
      "1 1 1 1 1 1 1 1 1 1  \n"
     ]
    }
   ],
   "source": [
    "# intilize the matrix \n",
    "Matrix = [] \n",
    "n = 5\n",
    "m = 10\n",
    "\n",
    "for rows in range (n): \n",
    "    columns = []\n",
    "    for col in range(m):\n",
    "        columns.append(1)\n",
    "    Matrix.append(columns)\n",
    "\n",
    "\n",
    "for row in range (n):\n",
    "    for col in range (m): \n",
    "        print(Matrix[row][col], end = \" \")\n",
    "    print(' ')"
   ]
  },
  {
   "cell_type": "markdown",
   "metadata": {},
   "source": [
    "#### Varibale size problem! "
   ]
  },
  {
   "cell_type": "markdown",
   "metadata": {},
   "source": [
    "\n",
    "what if the size of the iterator changes during the for loop? ( go to presentation)"
   ]
  },
  {
   "cell_type": "markdown",
   "metadata": {},
   "source": [
    "### Indexing\n",
    "Modifying the iterator during the loop"
   ]
  },
  {
   "cell_type": "code",
   "execution_count": 132,
   "metadata": {},
   "outputs": [],
   "source": [
    "# Code here \n",
    "number = [1, 2, -3, -4, 6, -5, 7, -10] \n",
    "\n",
    "n = len(number)\n",
    "for i in range(n):\n",
    "    if number [i] \n"
   ]
  },
  {
   "cell_type": "markdown",
   "metadata": {},
   "source": [
    "### *Challenge*: ( 5 min)\n",
    "Given a list of fruit names, capitalise their first letters.  \n",
    "For example, given `fruits = ['apple', 'orange', 'pear', 'banana', 'kiwi']`,  \n",
    "then after executing your code, we should get `fruits = ['Apple', 'Orange', 'Pear', 'Banana', 'Kiwi']`  \n",
    "\n",
    "*Hint*:\n",
    "- loop with index\n",
    "- `str.capitalize()` capitalises the first character"
   ]
  },
  {
   "cell_type": "code",
   "execution_count": 215,
   "metadata": {},
   "outputs": [
    {
     "name": "stdout",
     "output_type": "stream",
     "text": [
      "['Apple', 'Orange', 'Pear', 'Banana', 'Kiwi']\n"
     ]
    }
   ],
   "source": [
    "# YOUR CODE HERE\n",
    "# Hint: use the str.capitalize function to captitalise the first character\n",
    "fruits = ['apple', 'orange', 'pear', 'banana', 'kiwi']\n",
    "i = 0\n",
    "\n",
    "for i, fruit in enumerate(fruits):\n",
    "    fruits[i] = str.capitalize(fruit[0]) + fruit[1::]\n",
    "\n",
    "print(fruits)\n",
    "\n"
   ]
  },
  {
   "cell_type": "markdown",
   "metadata": {},
   "source": [
    "### enumerate"
   ]
  },
  {
   "cell_type": "code",
   "execution_count": 216,
   "metadata": {},
   "outputs": [
    {
     "name": "stdout",
     "output_type": "stream",
     "text": [
      "['Apple', 'Orange', 'Pear', 'Banana', 'Kiwi']\n"
     ]
    }
   ],
   "source": [
    "# Code here \n",
    "fruits = ['apple', 'orange', 'pear', 'banana', 'kiwi']\n",
    "for i, f in enumerate(fruits):\n",
    "    fruits[i] = f.capitalize()\n",
    "print(fruits)"
   ]
  },
  {
   "cell_type": "markdown",
   "metadata": {},
   "source": [
    "### Zip\n",
    "\n",
    "Give a list of fruits and another list of prices with respect to those fruits. Create a dictionary in which keys are fruit names and values are prices."
   ]
  },
  {
   "cell_type": "code",
   "execution_count": 259,
   "metadata": {},
   "outputs": [
    {
     "name": "stdout",
     "output_type": "stream",
     "text": [
      "apple 1\n",
      "orange 0.2\n",
      "pear 0.7\n",
      "banana 0.15\n",
      "kiwi 1.5\n",
      "{'apple': 1, 'orange': 0.2, 'pear': 0.7, 'banana': 0.15, 'kiwi': 1.5}\n"
     ]
    }
   ],
   "source": [
    "\n",
    "fruits = ['apple', 'orange', 'pear', 'banana', 'kiwi']\n",
    "prices = [1, 0.2, 0.7, 0.15, 1.5]\n",
    "\n",
    "fruit_price_info = {}\n",
    "for fruit, price in zip(fruits, prices):\n",
    "    print(fruit, price)\n",
    "    fruit_price_info[fruit] = price\n",
    "print(fruit_price_info)\n"
   ]
  },
  {
   "cell_type": "markdown",
   "metadata": {},
   "source": [
    "A simpler solution to this particular problem"
   ]
  },
  {
   "cell_type": "code",
   "execution_count": 260,
   "metadata": {},
   "outputs": [
    {
     "name": "stdout",
     "output_type": "stream",
     "text": [
      "{'apple': 1, 'orange': 0.2, 'pear': 0.7, 'banana': 0.15, 'kiwi': 1.5}\n"
     ]
    }
   ],
   "source": [
    "#CODE HERE\n",
    "\n",
    "fruit_price_info = dict(zip(fruits,prices))\n",
    "print(fruit_price_info)"
   ]
  },
  {
   "cell_type": "markdown",
   "metadata": {},
   "source": [
    "# Special statements"
   ]
  },
  {
   "cell_type": "markdown",
   "metadata": {},
   "source": [
    "### `break`\n",
    "\n",
    "*Challenge*: Given a list of characters, print them out until the first encounter of a non-alphabet.  \n",
    "For example, at the beginning `characters = ['a', 'b', '1', 'c', '2', 'd']`  \n",
    "your code should only print  \n",
    "```\n",
    "a\n",
    "b\n",
    "```\n",
    "*Hint*:\n",
    "- `str.isalpha()` checks if a character is an alphabet"
   ]
  },
  {
   "cell_type": "code",
   "execution_count": 285,
   "metadata": {},
   "outputs": [
    {
     "name": "stdout",
     "output_type": "stream",
     "text": [
      "a\n",
      "b\n",
      "c\n",
      "d\n"
     ]
    }
   ],
   "source": [
    "characters = ['a', 'b', '1', 'c', '2', 'd']\n",
    "# YOUR CODE HERE\n",
    "\n",
    "for i in characters:\n",
    "    for i in characters:\n",
    "        if i.isalpha():\n",
    "            print(i)\n",
    "    else:\n",
    "        break\n",
    "\n",
    "\n",
    "    "
   ]
  },
  {
   "cell_type": "markdown",
   "metadata": {},
   "source": [
    "### `continue`\n",
    "\n",
    "Only print alphabets from the list"
   ]
  },
  {
   "cell_type": "code",
   "execution_count": 297,
   "metadata": {},
   "outputs": [
    {
     "name": "stdout",
     "output_type": "stream",
     "text": [
      "a\n",
      "b\n",
      "c\n",
      "d\n",
      "a\n",
      "b\n",
      "c\n",
      "d\n",
      "a\n",
      "b\n",
      "c\n",
      "d\n",
      "a\n",
      "b\n",
      "c\n",
      "d\n",
      "a\n",
      "b\n",
      "c\n",
      "d\n",
      "a\n",
      "b\n",
      "c\n",
      "d\n"
     ]
    }
   ],
   "source": [
    "characters = ['a', 'b', '1', 'c', '2', 'd']\n",
    "# YOUR CODE HERE\n",
    "\n",
    "for i in characters:\n",
    "    for i in characters:\n",
    "        if i.isalpha():\n",
    "            print(i)\n",
    "    else:\n",
    "        continue\n",
    "\n",
    "\n"
   ]
  },
  {
   "cell_type": "markdown",
   "metadata": {},
   "source": [
    "## List comprehension"
   ]
  },
  {
   "cell_type": "markdown",
   "metadata": {},
   "source": [
    "The following code generates square values of all the numbers in a given list"
   ]
  },
  {
   "cell_type": "code",
   "execution_count": 298,
   "metadata": {},
   "outputs": [
    {
     "data": {
      "text/plain": [
       "[1, 9, 4, 16]"
      ]
     },
     "execution_count": 298,
     "metadata": {},
     "output_type": "execute_result"
    }
   ],
   "source": [
    "numbers = [1,3,2,4]\n",
    "squared_numbers = []\n",
    "for n in numbers:\n",
    "    squared_numbers.append(n**2)\n",
    "squared_numbers\n"
   ]
  },
  {
   "cell_type": "markdown",
   "metadata": {},
   "source": [
    "A quick way to make a list from another list"
   ]
  },
  {
   "cell_type": "code",
   "execution_count": 308,
   "metadata": {},
   "outputs": [
    {
     "name": "stdout",
     "output_type": "stream",
     "text": [
      "[1, 9, 4, 16]\n"
     ]
    }
   ],
   "source": [
    "numbers = [1,3,2,4]\n",
    "#CODE HERE\n",
    "squared_numbers = [n ** 2 for n in numbers]\n",
    "print(squared_numbers)"
   ]
  },
  {
   "cell_type": "markdown",
   "metadata": {},
   "source": [
    "Combine with conditional statements"
   ]
  },
  {
   "cell_type": "code",
   "execution_count": 309,
   "metadata": {},
   "outputs": [],
   "source": [
    "characters = ['a', 'b', '1', 'c', '2', 'd']\n",
    "#CODE HERE\n"
   ]
  },
  {
   "cell_type": "markdown",
   "metadata": {},
   "source": [
    "Finding fruits with characters e in their names. Also, captitalise the first character in their names."
   ]
  },
  {
   "cell_type": "code",
   "execution_count": 350,
   "metadata": {},
   "outputs": [
    {
     "data": {
      "text/plain": [
       "['Apple', 'Orange', 'Pear']"
      ]
     },
     "execution_count": 350,
     "metadata": {},
     "output_type": "execute_result"
    }
   ],
   "source": [
    "fruits = ['apple', 'orange', 'pear', 'banana', 'kiwi']\n",
    "\n",
    "# CODE HERE\n",
    "[fr.capitalize() for fr in fruits if 'e' in fr]"
   ]
  },
  {
   "cell_type": "markdown",
   "metadata": {},
   "source": [
    "Assume that we want to extract even numbers from two seperate lists of positive integers. "
   ]
  },
  {
   "cell_type": "code",
   "execution_count": 357,
   "metadata": {},
   "outputs": [
    {
     "name": "stdout",
     "output_type": "stream",
     "text": [
      "[2, 4, 6, 8, 10]\n"
     ]
    }
   ],
   "source": [
    "first_list = [ 1, 2, 3, 4, 5]\n",
    "second_list = [ 6, 7, 8, 9, 10]\n",
    "# CODE HERE\n",
    "\n",
    "first_list_even = [i for i in first_list if i % 2 == 0]\n",
    "second_list_even = [i for i in second_list if i % 2 == 0]\n",
    "\n",
    "combined_list = []\n",
    "combined_list += first_list_even + second_list_even\n",
    "\n",
    "print(combined_list)"
   ]
  },
  {
   "cell_type": "markdown",
   "metadata": {},
   "source": [
    "How to avoid rewriting codes multiple time? \n",
    "\n",
    "Can we write one piece of code once and use it multiple times? "
   ]
  },
  {
   "cell_type": "markdown",
   "metadata": {},
   "source": [
    "# Function in python\n",
    "\n",
    "## Definition"
   ]
  },
  {
   "cell_type": "code",
   "execution_count": 372,
   "metadata": {},
   "outputs": [],
   "source": [
    "# your firts function \n",
    "# CODE HERE\n",
    "\n",
    "def even_number(number_list):\n",
    "    even_number_list = [n for n in number_list if n % 2 == 0]\n",
    "    print(even_number_list)\n"
   ]
  },
  {
   "cell_type": "markdown",
   "metadata": {},
   "source": [
    "##### call the function"
   ]
  },
  {
   "cell_type": "code",
   "execution_count": 373,
   "metadata": {},
   "outputs": [
    {
     "name": "stdout",
     "output_type": "stream",
     "text": [
      "[2, 4]\n",
      "[6, 8, 10]\n",
      "[]\n",
      "[102]\n",
      "[72, 510]\n"
     ]
    }
   ],
   "source": [
    "list1 = [ 1, 2, 3, 4, 5]\n",
    "list2 = [ 6, 7, 8, 9, 10]\n",
    "list3 = [ 61, 71, 81, 91, 101]\n",
    "list4 = [ 63, 73, 83, 93, 102]\n",
    "list5 = [ 63, 72, 83, 49, 510]\n",
    "\n",
    "# CODE HERE\n",
    "\n",
    "even_number(list1)\n",
    "even_number(list2)\n",
    "even_number(list3)\n",
    "even_number(list4)\n",
    "even_number(list5)"
   ]
  },
  {
   "cell_type": "markdown",
   "metadata": {},
   "source": [
    "## Arguments with default values"
   ]
  },
  {
   "cell_type": "markdown",
   "metadata": {},
   "source": [
    "The following function calculates a salary after increasement. If not specified, the default percentage is 3."
   ]
  },
  {
   "cell_type": "code",
   "execution_count": 374,
   "metadata": {},
   "outputs": [],
   "source": [
    "#CODE HERE\n"
   ]
  },
  {
   "cell_type": "markdown",
   "metadata": {},
   "source": [
    "#### Calling"
   ]
  },
  {
   "cell_type": "code",
   "execution_count": 375,
   "metadata": {},
   "outputs": [],
   "source": [
    "#CODE HERE\n"
   ]
  },
  {
   "cell_type": "markdown",
   "metadata": {},
   "source": [
    "## Exercise (5 min)"
   ]
  },
  {
   "cell_type": "markdown",
   "metadata": {},
   "source": [
    "Define and call a function that calculates the average of two variables, which can be either (i) [Arithmetic](https://en.wikipedia.org/wiki/Arithmetic_mean) or [Harmonic](https://www.mathsisfun.com/numbers/harmonic-mean.html). If not specified, the function should use the arithmetic mean.\n",
    "\n",
    "When calculating the harmonic mean, if one of the values is zero, return `None` value.\n"
   ]
  },
  {
   "cell_type": "code",
   "execution_count": 376,
   "metadata": {},
   "outputs": [
    {
     "ename": "SyntaxError",
     "evalue": "incomplete input (990338689.py, line 6)",
     "output_type": "error",
     "traceback": [
      "\u001b[1;36m  Cell \u001b[1;32mIn[376], line 6\u001b[1;36m\u001b[0m\n\u001b[1;33m    # YOUR CODE HERE\u001b[0m\n\u001b[1;37m                    ^\u001b[0m\n\u001b[1;31mSyntaxError\u001b[0m\u001b[1;31m:\u001b[0m incomplete input\n"
     ]
    }
   ],
   "source": [
    "def calc_mean(a, b, method='arithmetic'):\n",
    "    # Calculate 'mean' of a and b\n",
    "    # Two options for method\n",
    "    # - Arithmetic: (a + b) / 2\n",
    "    # - Hamornic: 2 / (1/a + 1/b)\n",
    "    # YOUR CODE HERE"
   ]
  },
  {
   "cell_type": "code",
   "execution_count": null,
   "metadata": {},
   "outputs": [],
   "source": [
    "#CODE HERE"
   ]
  },
  {
   "cell_type": "code",
   "execution_count": null,
   "metadata": {},
   "outputs": [],
   "source": [
    "#CODE HERE"
   ]
  },
  {
   "cell_type": "markdown",
   "metadata": {},
   "source": [
    "## Function with multiple outputs"
   ]
  },
  {
   "cell_type": "code",
   "execution_count": null,
   "metadata": {},
   "outputs": [],
   "source": [
    "#CODE HERE"
   ]
  },
  {
   "cell_type": "markdown",
   "metadata": {},
   "source": [
    "Call the function"
   ]
  },
  {
   "cell_type": "code",
   "execution_count": null,
   "metadata": {},
   "outputs": [],
   "source": [
    "#CODE HERE"
   ]
  },
  {
   "cell_type": "markdown",
   "metadata": {},
   "source": [
    "Or explicitly seperate the outputs"
   ]
  },
  {
   "cell_type": "code",
   "execution_count": null,
   "metadata": {},
   "outputs": [],
   "source": [
    "#CODE HERE"
   ]
  },
  {
   "cell_type": "markdown",
   "metadata": {},
   "source": [
    "what if you want to ignore one of the outputs? "
   ]
  },
  {
   "cell_type": "code",
   "execution_count": null,
   "metadata": {},
   "outputs": [],
   "source": [
    "#CODE HERE\n"
   ]
  },
  {
   "cell_type": "markdown",
   "metadata": {},
   "source": [
    "can we have a function without inputs and/or outputs? "
   ]
  },
  {
   "cell_type": "code",
   "execution_count": null,
   "metadata": {},
   "outputs": [],
   "source": [
    "#CODE HERE"
   ]
  },
  {
   "cell_type": "markdown",
   "metadata": {},
   "source": [
    "##### Can we define a function withough a name? \n",
    "\n"
   ]
  },
  {
   "cell_type": "markdown",
   "metadata": {},
   "source": [
    "## Anonymous functions "
   ]
  },
  {
   "cell_type": "code",
   "execution_count": 377,
   "metadata": {},
   "outputs": [
    {
     "name": "stdout",
     "output_type": "stream",
     "text": [
      "6\n"
     ]
    }
   ],
   "source": [
    "#CODE HERE\n",
    "\n",
    "f = lambda x,y: x*y*y + y*x*x\n",
    "\n",
    "print(f(1,2))"
   ]
  },
  {
   "cell_type": "markdown",
   "metadata": {},
   "source": [
    "Anounymous ( also called lambda) functions are very useful when you want to work with mathematical functions. \n",
    "assume you want to have a multivarible mathematical function like: \n",
    "f(x,y) = xy<sup>2 </sup> + yx<sup>2</sup> "
   ]
  },
  {
   "cell_type": "code",
   "execution_count": 378,
   "metadata": {},
   "outputs": [],
   "source": [
    "#CODE HERE\n"
   ]
  },
  {
   "cell_type": "markdown",
   "metadata": {},
   "source": [
    "## Generators"
   ]
  },
  {
   "cell_type": "markdown",
   "metadata": {},
   "source": [
    "Python Generator functions return a generator object that is iterable. let's "
   ]
  },
  {
   "cell_type": "markdown",
   "metadata": {},
   "source": [
    "Let's create a function that generates a sequence of integer numbers ( this is equivalent to the built-in funtion `range` ! )\n"
   ]
  },
  {
   "cell_type": "code",
   "execution_count": 379,
   "metadata": {},
   "outputs": [],
   "source": [
    "#what is the difference bteween a generator and a regular funtion? \n",
    "#CODE HERE\n"
   ]
  },
  {
   "cell_type": "markdown",
   "metadata": {},
   "source": [
    "## Recursive functions"
   ]
  },
  {
   "cell_type": "markdown",
   "metadata": {},
   "source": [
    " you as an engineer have to deal with lots of difference equations. python, like many othe programing languages, makes it easy for you by recursive functions. \n",
    " let's assume we want to have the factorial of x.  In mathematics, factorial(x) = x * (x-1)(x-2)*...*1. "
   ]
  },
  {
   "cell_type": "code",
   "execution_count": 380,
   "metadata": {},
   "outputs": [],
   "source": [
    "#CODE HERE"
   ]
  },
  {
   "cell_type": "markdown",
   "metadata": {},
   "source": [
    "# Try statement"
   ]
  },
  {
   "cell_type": "code",
   "execution_count": 381,
   "metadata": {},
   "outputs": [],
   "source": [
    "#CODE HERE"
   ]
  },
  {
   "cell_type": "markdown",
   "metadata": {},
   "source": [
    "Use try statement in a function"
   ]
  },
  {
   "cell_type": "code",
   "execution_count": 382,
   "metadata": {},
   "outputs": [],
   "source": [
    "#CODE HERE"
   ]
  },
  {
   "cell_type": "code",
   "execution_count": 383,
   "metadata": {},
   "outputs": [],
   "source": [
    "#CODE HERE"
   ]
  }
 ],
 "metadata": {
  "kernelspec": {
   "display_name": "Python 3 (ipykernel)",
   "language": "python",
   "name": "python3"
  },
  "language_info": {
   "codemirror_mode": {
    "name": "ipython",
    "version": 3
   },
   "file_extension": ".py",
   "mimetype": "text/x-python",
   "name": "python",
   "nbconvert_exporter": "python",
   "pygments_lexer": "ipython3",
   "version": "3.11.4"
  }
 },
 "nbformat": 4,
 "nbformat_minor": 2
}
