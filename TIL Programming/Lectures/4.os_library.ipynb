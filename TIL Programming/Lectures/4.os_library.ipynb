{
 "cells": [
  {
   "cell_type": "code",
   "execution_count": null,
   "id": "daf8d608",
   "metadata": {},
   "outputs": [],
   "source": [
    "import os\n",
    "\n",
    "# get enviroment variable\n",
    "print(os.getenv('HOMEDRIVE'))"
   ]
  },
  {
   "cell_type": "code",
   "execution_count": null,
   "id": "a37021d5",
   "metadata": {},
   "outputs": [],
   "source": [
    "print(os.path.exists('C:/TUDelft/'))\n",
    "print(os.path.exists('C:/LikelyNotAFolder/'))"
   ]
  },
  {
   "cell_type": "code",
   "execution_count": null,
   "id": "ef069051",
   "metadata": {},
   "outputs": [],
   "source": [
    "print(os.getcwd())"
   ]
  },
  {
   "cell_type": "code",
   "execution_count": null,
   "id": "81924473",
   "metadata": {},
   "outputs": [],
   "source": [
    "path = os.path.join(os.getcwd(), 'NewFolder')\n",
    "print(path)"
   ]
  },
  {
   "cell_type": "code",
   "execution_count": null,
   "id": "789593cc",
   "metadata": {},
   "outputs": [],
   "source": [
    "try:\n",
    "    os.rmdir(path) # this line is only here for repeated execution of this block\n",
    "except:\n",
    "    pass           # ignore if the folder isn't there\n",
    "\n",
    "print(os.listdir(os.getcwd()))\n",
    "os.mkdir(path)\n",
    "print(os.listdir(os.getcwd()))"
   ]
  },
  {
   "cell_type": "code",
   "execution_count": null,
   "id": "77f4f86c",
   "metadata": {},
   "outputs": [],
   "source": [
    "os.remove('New Text Document.txt')"
   ]
  }
 ],
 "metadata": {
  "kernelspec": {
   "display_name": "Python 3 (ipykernel)",
   "language": "python",
   "name": "python3"
  },
  "language_info": {
   "codemirror_mode": {
    "name": "ipython",
    "version": 3
   },
   "file_extension": ".py",
   "mimetype": "text/x-python",
   "name": "python",
   "nbconvert_exporter": "python",
   "pygments_lexer": "ipython3",
   "version": "3.9.12"
  }
 },
 "nbformat": 4,
 "nbformat_minor": 5
}
